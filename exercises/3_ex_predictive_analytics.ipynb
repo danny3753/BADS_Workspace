{
  "cells": [
    {
      "cell_type": "markdown",
      "metadata": {
        "id": "vK2mQk9JvGu8"
      },
      "source": [
        "[![Open In Colab](https://colab.research.google.com/assets/colab-badge.svg)](https://colab.research.google.com/github/Humboldt-WI/bads/blob/master/exercises/3_ex_predictive_analytics.ipynb) "
      ]
    },
    {
      "cell_type": "markdown",
      "metadata": {
        "id": "SCxdZyotvGu_"
      },
      "source": [
        "# BADS Exercise 3 on the foundations of predictive analytics\n",
        "The following exercises extend [Tutorial 3 on predictive analytics](https://github.com/Humboldt-WI/bads/blob/master/tutorials/3_nb_predictive_analytics.ipynb). \n",
        "There, we largely focused on linear regression. Hence, in this notebook, we revisit some standard practices in regression analysis and - for the fun of it - consider another data set. Specifically, we will use a well-known data set associated with wine quality. The data set is available in the *UCI machine learning repository* at: https://archive.ics.uci.edu/ml/datasets/wine+quality. Spend a few minutes to familiarize yourself with the data. In a nutshell, wine quality is measured on a scale from 0 (basically toxic) to 10 (heaven in a glass) by means of a survey. Note that the survey used other labels. We take the liberty to describe the data in a more figurative way ;) \n",
        "The data also provides some feature values capturing various (e.g., chemical) characteristics of the wine. The feature  names are fairly self-explanatory. The goal is to understand how the characteristics determine perceived quality (i.e, the target variable). Strictly speaking, the scaling level of the target variable is ordinal and not numeric. However, for simplicity, we consider our task to be a regression task and use linear regression.  \n",
        "\n",
        "## 1 Loading the data \n",
        "Load and take a look into the data. Print out the number of observations and examine descriptive statistics. Do you see any specific patterns? Besides analyzing features individually by calculating descriptive statistics, also pay attention to the correlation between features and the target variable. Depending how advanced you are in your studies, you could also make use of some of the topics that we cover in [Tutorial 4 on data preparation](https://github.com/Humboldt-WI/bads/blob/master/tutorials/4_nb_data_preparation.ipynb). "
      ]
    },
    {
      "cell_type": "code",
      "execution_count": 2,
      "metadata": {
        "id": "VMldY7l5vGvA"
      },
      "outputs": [],
      "source": [
        "# Load relevant libraries\n",
        "import numpy as np\n",
        "import pandas as pd\n",
        "import matplotlib.pyplot as plt\n",
        "\n",
        "%matplotlib inline\n",
        "plt.rcParams[\"figure.figsize\"] = (12,12)"
      ]
    },
    {
      "cell_type": "code",
      "execution_count": 3,
      "metadata": {
        "colab": {
          "base_uri": "https://localhost:8080/"
        },
        "id": "5tcU-YbSvGvB",
        "outputId": "cab5f674-fe94-48f9-84f1-5da70fa34615"
      },
      "outputs": [
        {
          "output_type": "stream",
          "name": "stdout",
          "text": [
            "Number of observations in this data set: 1599\n"
          ]
        }
      ],
      "source": [
        "# Load the data (either from disk or directly from the web)\n",
        "url = 'http://archive.ics.uci.edu/ml/machine-learning-databases/wine-quality/winequality-red.csv'\n",
        "df = pd.read_csv(url, sep=';')\n",
        "df.columns = df.columns.str.replace(' ', '_') # change column names \n",
        "print('Number of observations in this data set: {}'.format(len(df))) "
      ]
    },
    {
      "cell_type": "code",
      "execution_count": 4,
      "metadata": {
        "colab": {
          "base_uri": "https://localhost:8080/"
        },
        "id": "SfGhE7ASvGvC",
        "outputId": "e3e3c460-588f-431a-fe6a-7a55cff363f7"
      },
      "outputs": [
        {
          "output_type": "execute_result",
          "data": {
            "text/plain": [
              "<bound method NDFrame.describe of       fixed_acidity  volatile_acidity  citric_acid  ...  sulphates  alcohol  quality\n",
              "0               7.4             0.700         0.00  ...       0.56      9.4        5\n",
              "1               7.8             0.880         0.00  ...       0.68      9.8        5\n",
              "2               7.8             0.760         0.04  ...       0.65      9.8        5\n",
              "3              11.2             0.280         0.56  ...       0.58      9.8        6\n",
              "4               7.4             0.700         0.00  ...       0.56      9.4        5\n",
              "...             ...               ...          ...  ...        ...      ...      ...\n",
              "1594            6.2             0.600         0.08  ...       0.58     10.5        5\n",
              "1595            5.9             0.550         0.10  ...       0.76     11.2        6\n",
              "1596            6.3             0.510         0.13  ...       0.75     11.0        6\n",
              "1597            5.9             0.645         0.12  ...       0.71     10.2        5\n",
              "1598            6.0             0.310         0.47  ...       0.66     11.0        6\n",
              "\n",
              "[1599 rows x 12 columns]>"
            ]
          },
          "metadata": {},
          "execution_count": 4
        }
      ],
      "source": [
        "# Create descriptive statistics and state your findings\n",
        "df.describe"
      ]
    },
    {
      "cell_type": "code",
      "source": [
        "df.hist()"
      ],
      "metadata": {
        "id": "hQRx4v-0wBp4",
        "outputId": "9ff86a42-49b6-4e6d-908c-7b7e91a7ec96",
        "colab": {
          "base_uri": "https://localhost:8080/",
          "height": 873
        }
      },
      "execution_count": 5,
      "outputs": [
        {
          "output_type": "execute_result",
          "data": {
            "text/plain": [
              "array([[<matplotlib.axes._subplots.AxesSubplot object at 0x7f9396ac5b90>,\n",
              "        <matplotlib.axes._subplots.AxesSubplot object at 0x7f93968fd090>,\n",
              "        <matplotlib.axes._subplots.AxesSubplot object at 0x7f939681c5d0>],\n",
              "       [<matplotlib.axes._subplots.AxesSubplot object at 0x7f93967d2bd0>,\n",
              "        <matplotlib.axes._subplots.AxesSubplot object at 0x7f9396795210>,\n",
              "        <matplotlib.axes._subplots.AxesSubplot object at 0x7f9396748810>],\n",
              "       [<matplotlib.axes._subplots.AxesSubplot object at 0x7f93966fee90>,\n",
              "        <matplotlib.axes._subplots.AxesSubplot object at 0x7f93966c0410>,\n",
              "        <matplotlib.axes._subplots.AxesSubplot object at 0x7f93966c0450>],\n",
              "       [<matplotlib.axes._subplots.AxesSubplot object at 0x7f9396675b50>,\n",
              "        <matplotlib.axes._subplots.AxesSubplot object at 0x7f93965f0690>,\n",
              "        <matplotlib.axes._subplots.AxesSubplot object at 0x7f9396625c90>]],\n",
              "      dtype=object)"
            ]
          },
          "metadata": {},
          "execution_count": 5
        },
        {
          "output_type": "display_data",
          "data": {
            "image/png": "[encoded data removed]",
            "text/plain": [
              "<Figure size 864x864 with 12 Axes>"
            ]
          },
          "metadata": {
            "needs_background": "light"
          }
        }
      ]
    },
    {
      "cell_type": "code",
      "execution_count": 7,
      "metadata": {
        "colab": {
          "base_uri": "https://localhost:8080/"
        },
        "id": "eV-M2SiQvGvC",
        "outputId": "72458bd2-34ad-4ca2-8be4-86ad8ec8f8e7"
      },
      "outputs": [
        {
          "output_type": "stream",
          "name": "stdout",
          "text": [
            "alcohol                 0.476166\n",
            "sulphates               0.251397\n",
            "citric_acid             0.226373\n",
            "fixed_acidity           0.124052\n",
            "residual_sugar          0.013732\n",
            "free_sulfur_dioxide    -0.050656\n",
            "pH                     -0.057731\n",
            "chlorides              -0.128907\n",
            "density                -0.174919\n",
            "total_sulfur_dioxide   -0.185100\n",
            "volatile_acidity       -0.390558\n",
            "Name: quality, dtype: float64\n"
          ]
        }
      ],
      "source": [
        "# Analyze the correlation between features and the target\n",
        "correlation = (df[df.columns].corr()['quality'][:].sort_values(ascending=False)).drop('quality')\n",
        "print(correlation)"
      ]
    },
    {
      "cell_type": "code",
      "source": [
        "from yellowbrick.target import FeatureCorrelation\n",
        "plt.figure(figsize=(8,6))  # not too big\n",
        "features = df.columns.drop('quality')\n",
        "corr = FeatureCorrelation(labels=features);\n",
        "corr.fit(df[features], df['quality']);"
      ],
      "metadata": {
        "id": "nO5CZENMwdO4",
        "outputId": "da3daab4-3d9c-4fa6-daeb-20064f8b25ea",
        "colab": {
          "base_uri": "https://localhost:8080/",
          "height": 374
        }
      },
      "execution_count": 9,
      "outputs": [
        {
          "output_type": "display_data",
          "data": {
            "image/png": "[encoded data removed]",
            "text/plain": [
              "<Figure size 576x432 with 1 Axes>"
            ]
          },
          "metadata": {}
        }
      ]
    },
    {
      "cell_type": "markdown",
      "metadata": {
        "id": "mt1tjRlTvGvC"
      },
      "source": [
        "## 2 Regression analysis (basic)\n",
        "Let's try to model the quality of wine (target)  using the data about it's chemical compounds (features). Build a simple linear regression using the `statsmodels` library. Start only with two components that seem to have most influence. You should have got some ideas which variables might be important from your previous analysis of the data. Produce a regression table and discuss the results. How well does your model explain the target?\n",
        "\n"
      ]
    },
    {
      "cell_type": "code",
      "execution_count": 10,
      "metadata": {
        "colab": {
          "base_uri": "https://localhost:8080/"
        },
        "id": "sKMhQzDkvGvD",
        "outputId": "9aa06fa5-faa2-46f1-e114-35e4ed1b2649"
      },
      "outputs": [
        {
          "output_type": "stream",
          "name": "stderr",
          "text": [
            "/usr/local/lib/python3.7/dist-packages/statsmodels/tools/_testing.py:19: FutureWarning: pandas.util.testing is deprecated. Use the functions in the public API at pandas.testing instead.\n",
            "  import pandas.util.testing as tm\n"
          ]
        }
      ],
      "source": [
        "# First regression using only two features\n",
        "import statsmodels.api as sm\n",
        "from sklearn.linear_model import LinearRegression\n",
        "x, y = df.alcohol, df.quality"
      ]
    },
    {
      "cell_type": "code",
      "source": [
        "import statsmodels.api as sm\n",
        "x = sm.add_constant(x)\n",
        "model = sm.OLS(y, x)\n",
        "results_1 = model.fit()\n",
        "print(results_1.summary())"
      ],
      "metadata": {
        "id": "Sh0zROXvwovM",
        "outputId": "e3cf0e3e-d771-4f7c-aa8c-a3661d95836d",
        "colab": {
          "base_uri": "https://localhost:8080/"
        }
      },
      "execution_count": 11,
      "outputs": [
        {
          "output_type": "stream",
          "name": "stdout",
          "text": [
            "                            OLS Regression Results                            \n",
            "==============================================================================\n",
            "Dep. Variable:                quality   R-squared:                       0.227\n",
            "Model:                            OLS   Adj. R-squared:                  0.226\n",
            "Method:                 Least Squares   F-statistic:                     468.3\n",
            "Date:                Sun, 12 Dec 2021   Prob (F-statistic):           2.83e-91\n",
            "Time:                        17:48:27   Log-Likelihood:                -1721.1\n",
            "No. Observations:                1599   AIC:                             3446.\n",
            "Df Residuals:                    1597   BIC:                             3457.\n",
            "Df Model:                           1                                         \n",
            "Covariance Type:            nonrobust                                         \n",
            "==============================================================================\n",
            "                 coef    std err          t      P>|t|      [0.025      0.975]\n",
            "------------------------------------------------------------------------------\n",
            "const          1.8750      0.175     10.732      0.000       1.532       2.218\n",
            "alcohol        0.3608      0.017     21.639      0.000       0.328       0.394\n",
            "==============================================================================\n",
            "Omnibus:                       38.501   Durbin-Watson:                   1.748\n",
            "Prob(Omnibus):                  0.000   Jarque-Bera (JB):               71.758\n",
            "Skew:                          -0.154   Prob(JB):                     2.62e-16\n",
            "Kurtosis:                       3.991   Cond. No.                         104.\n",
            "==============================================================================\n",
            "\n",
            "Warnings:\n",
            "[1] Standard Errors assume that the covariance matrix of the errors is correctly specified.\n"
          ]
        }
      ]
    },
    {
      "cell_type": "markdown",
      "metadata": {
        "id": "TR-dVCW6vGvD"
      },
      "source": [
        "## 3 Full regression analysis \n",
        "Let's now  try using all features. Re-run the regression and check whether its results have improved. Which features seem to play a major role? Do you observe any irrelevant features? Do the results agree with our expectations formed by the analysis of correlation? Try out a few more variants of your regression model by discarding less informative features.  "
      ]
    },
    {
      "cell_type": "code",
      "execution_count": 12,
      "metadata": {
        "colab": {
          "base_uri": "https://localhost:8080/"
        },
        "id": "5oVzZsh0vGvE",
        "outputId": "be40fe5c-a1b5-4b99-d875-9f0aae4c56f0"
      },
      "outputs": [
        {
          "output_type": "stream",
          "name": "stdout",
          "text": [
            "                            OLS Regression Results                            \n",
            "==============================================================================\n",
            "Dep. Variable:                quality   R-squared:                       0.361\n",
            "Model:                            OLS   Adj. R-squared:                  0.356\n",
            "Method:                 Least Squares   F-statistic:                     81.35\n",
            "Date:                Sun, 12 Dec 2021   Prob (F-statistic):          1.79e-145\n",
            "Time:                        17:48:41   Log-Likelihood:                -1569.1\n",
            "No. Observations:                1599   AIC:                             3162.\n",
            "Df Residuals:                    1587   BIC:                             3227.\n",
            "Df Model:                          11                                         \n",
            "Covariance Type:            nonrobust                                         \n",
            "========================================================================================\n",
            "                           coef    std err          t      P>|t|      [0.025      0.975]\n",
            "----------------------------------------------------------------------------------------\n",
            "const                   21.9652     21.195      1.036      0.300     -19.607      63.538\n",
            "fixed_acidity            0.0250      0.026      0.963      0.336      -0.026       0.076\n",
            "volatile_acidity        -1.0836      0.121     -8.948      0.000      -1.321      -0.846\n",
            "citric_acid             -0.1826      0.147     -1.240      0.215      -0.471       0.106\n",
            "residual_sugar           0.0163      0.015      1.089      0.276      -0.013       0.046\n",
            "chlorides               -1.8742      0.419     -4.470      0.000      -2.697      -1.052\n",
            "free_sulfur_dioxide      0.0044      0.002      2.009      0.045       0.000       0.009\n",
            "total_sulfur_dioxide    -0.0033      0.001     -4.480      0.000      -0.005      -0.002\n",
            "density                -17.8812     21.633     -0.827      0.409     -60.314      24.551\n",
            "pH                      -0.4137      0.192     -2.159      0.031      -0.789      -0.038\n",
            "sulphates                0.9163      0.114      8.014      0.000       0.692       1.141\n",
            "alcohol                  0.2762      0.026     10.429      0.000       0.224       0.328\n",
            "==============================================================================\n",
            "Omnibus:                       27.376   Durbin-Watson:                   1.757\n",
            "Prob(Omnibus):                  0.000   Jarque-Bera (JB):               40.965\n",
            "Skew:                          -0.168   Prob(JB):                     1.27e-09\n",
            "Kurtosis:                       3.708   Cond. No.                     1.13e+05\n",
            "==============================================================================\n",
            "\n",
            "Warnings:\n",
            "[1] Standard Errors assume that the covariance matrix of the errors is correctly specified.\n",
            "[2] The condition number is large, 1.13e+05. This might indicate that there are\n",
            "strong multicollinearity or other numerical problems.\n"
          ]
        }
      ],
      "source": [
        "# Full regression model using all features\n",
        "X = df[features]\n",
        "X = sm.add_constant(X)\n",
        "\n",
        "import statsmodels.api as sm\n",
        "results_2 = sm.OLS(y, X).fit()\n",
        "print(results_2.summary())"
      ]
    },
    {
      "cell_type": "markdown",
      "metadata": {
        "id": "80_PlXvwvGvE"
      },
      "source": [
        "## 4 Comparing regression models\n",
        "Working on the previous tasks, you have created several regression models for the same data set. You would want to know which model is best for your data. Briefly state which regression statistics you consider to determine the most suitable model. Use this task as an opportunity for verifying that you are familiar with the statistics that the regression output table provides.  "
      ]
    },
    {
      "cell_type": "markdown",
      "metadata": {
        "id": "6zu4udBKvGvF"
      },
      "source": [
        "Briefly state your answers to 3.4 as a bullet list:\n",
        "- ...\n",
        "- ...\n",
        "- ..."
      ]
    },
    {
      "cell_type": "markdown",
      "metadata": {
        "id": "l1q2m6I7vGvF"
      },
      "source": [
        "## 5 Residual analysis\n",
        "Having discussed the suitability of alternative regression models above, you will now be ready to pick your preferred model. Create a residual plot for this model. Briefly discuss the purposes of a residual plot and your findings."
      ]
    },
    {
      "cell_type": "code",
      "execution_count": null,
      "metadata": {
        "id": "zj0wZtcCvGvF"
      },
      "outputs": [],
      "source": [
        "# Residual plot\n",
        "\n"
      ]
    },
    {
      "cell_type": "markdown",
      "metadata": {
        "id": "88Ee3JZlvGvG"
      },
      "source": [
        "**Your comments on the residual plot** \n",
        "\n",
        "In general, the purpose of a residual plot is:\n",
        "\n",
        "With regard to the above residual plot, I conclude:"
      ]
    },
    {
      "cell_type": "markdown",
      "metadata": {
        "id": "CzafgVHgvGvH"
      },
      "source": [
        "# Well done. You did great in solving all the exercises!"
      ]
    }
  ],
  "metadata": {
    "kernelspec": {
      "display_name": "PyCharm (VHB-ProDok-Internal)",
      "language": "python",
      "name": "pycharm-e3448bea"
    },
    "language_info": {
      "codemirror_mode": {
        "name": "ipython",
        "version": 3
      },
      "file_extension": ".py",
      "mimetype": "text/x-python",
      "name": "python",
      "nbconvert_exporter": "python",
      "pygments_lexer": "ipython3",
      "version": "3.7.6"
    },
    "colab": {
      "name": "3_ex_predictive_analytics.ipynb",
      "provenance": []
    }
  },
  "nbformat": 4,
  "nbformat_minor": 0
}