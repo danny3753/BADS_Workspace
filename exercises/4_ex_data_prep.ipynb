{
  "cells": [
    {
      "cell_type": "markdown",
      "metadata": {
        "id": "nmIQkT_sZTzN"
      },
      "source": [
        "[![Open In Colab](https://colab.research.google.com/assets/colab-badge.svg)](https://colab.research.google.com/github/Humboldt-WI/bads/blob/master/exercises/4_ex_data_prep.ipynb) "
      ]
    },
    {
      "cell_type": "markdown",
      "metadata": {
        "id": "Nf5bQw9lZTzN"
      },
      "source": [
        "# BADS Exercise 4 on data preparation\n",
        "This exercise revisits some of the concepts covered in [Tutorial 4 on data preparation](https://github.com/Humboldt-WI/bads/blob/master/tutorials/4_nb_data_preparation.ipynb). That tutorial was rather comprehensive and provided a lot of materials and codes associated with typical tasks in the wide scope of data preparation. Therefore, the exercises will not go beyond [Tutorial 4](https://github.com/Humboldt-WI/bads/blob/master/tutorials/4_nb_data_preparation.ipynb). Rather, we will consider a different data set and repeat some standard data prep. tasks for that data set.   "
      ]
    },
    {
      "cell_type": "code",
      "execution_count": 26,
      "metadata": {
        "id": "cHLkHPxB_4-N"
      },
      "outputs": [],
      "source": [
        "# Space to load some standard libraries \n",
        "import pandas as pd\n",
        "import numpy as np\n",
        "import seaborn as sns\n",
        "import matplotlib.pyplot as plt"
      ]
    },
    {
      "cell_type": "markdown",
      "metadata": {
        "id": "xdjVJtiT_4-P"
      },
      "source": [
        "## 1 Loading the data \n",
        "The data set for this tutorial comes from the classic Book Credit Scoring and its Applications by Lyn C. Thomas, David B. Edelman, and Jonathan N. Crook. You can obtain the data, called *loan_data* from our [GitHub repository](https://github.com/Humboldt-WI/bads/tree/master/data). The data folder of the repository also provides a file *loan_data_dictionary*, which offers a brief description of the features in this data set. In a nutshell, the data represents yet another vanilla credit scoring task with a binary target variable, indicating whether bank customers repaid their debt or defaulted, and a few features characterizing credit applicants. Your first task is to load the data into a `Pandas DataFrame`."
      ]
    },
    {
      "cell_type": "code",
      "execution_count": 35,
      "metadata": {
        "id": "54Ud3XtqZTzN",
        "outputId": "b9669347-3787-4180-b1fb-06e93b66900f",
        "colab": {
          "base_uri": "https://localhost:8080/",
          "height": 423
        }
      },
      "outputs": [
        {
          "output_type": "execute_result",
          "data": {
            "text/html": [
              "\n",
              "  <div id=\"df-0d37e573-e989-40f7-a6fb-62f6fc3b01ca\">\n",
              "    <div class=\"colab-df-container\">\n",
              "      <div>\n",
              "<style scoped>\n",
              "    .dataframe tbody tr th:only-of-type {\n",
              "        vertical-align: middle;\n",
              "    }\n",
              "\n",
              "    .dataframe tbody tr th {\n",
              "        vertical-align: top;\n",
              "    }\n",
              "\n",
              "    .dataframe thead th {\n",
              "        text-align: right;\n",
              "    }\n",
              "</style>\n",
              "<table border=\"1\" class=\"dataframe\">\n",
              "  <thead>\n",
              "    <tr style=\"text-align: right;\">\n",
              "      <th></th>\n",
              "      <th>YOB</th>\n",
              "      <th>nKIDS</th>\n",
              "      <th>nDEP</th>\n",
              "      <th>PHON</th>\n",
              "      <th>dINC_SP</th>\n",
              "      <th>EMPS_A</th>\n",
              "      <th>dINC_A</th>\n",
              "      <th>RES</th>\n",
              "      <th>dHVAL</th>\n",
              "      <th>dMBO</th>\n",
              "      <th>dOUTM</th>\n",
              "      <th>dOUTL</th>\n",
              "      <th>dOUTHP</th>\n",
              "      <th>dOUTCC</th>\n",
              "      <th>BAD</th>\n",
              "    </tr>\n",
              "  </thead>\n",
              "  <tbody>\n",
              "    <tr>\n",
              "      <th>0</th>\n",
              "      <td>19.0</td>\n",
              "      <td>4.0</td>\n",
              "      <td>0.0</td>\n",
              "      <td>1</td>\n",
              "      <td>0.0</td>\n",
              "      <td>R</td>\n",
              "      <td>0.0</td>\n",
              "      <td>O</td>\n",
              "      <td>14464.0</td>\n",
              "      <td>4.0</td>\n",
              "      <td>0.0</td>\n",
              "      <td>0.0</td>\n",
              "      <td>0.0</td>\n",
              "      <td>0.0</td>\n",
              "      <td>0.0</td>\n",
              "    </tr>\n",
              "    <tr>\n",
              "      <th>1</th>\n",
              "      <td>41.0</td>\n",
              "      <td>2.0</td>\n",
              "      <td>0.0</td>\n",
              "      <td>1</td>\n",
              "      <td>0.0</td>\n",
              "      <td>P</td>\n",
              "      <td>36000.0</td>\n",
              "      <td>O</td>\n",
              "      <td>0.0</td>\n",
              "      <td>0.0</td>\n",
              "      <td>280.0</td>\n",
              "      <td>664.0</td>\n",
              "      <td>0.0</td>\n",
              "      <td>80.0</td>\n",
              "      <td>0.0</td>\n",
              "    </tr>\n",
              "    <tr>\n",
              "      <th>2</th>\n",
              "      <td>66.0</td>\n",
              "      <td>0.0</td>\n",
              "      <td>0.0</td>\n",
              "      <td>1</td>\n",
              "      <td>0.0</td>\n",
              "      <td>N</td>\n",
              "      <td>30000.0</td>\n",
              "      <td>N</td>\n",
              "      <td>0.0</td>\n",
              "      <td>0.0</td>\n",
              "      <td>0.0</td>\n",
              "      <td>0.0</td>\n",
              "      <td>0.0</td>\n",
              "      <td>0.0</td>\n",
              "      <td>0.0</td>\n",
              "    </tr>\n",
              "    <tr>\n",
              "      <th>3</th>\n",
              "      <td>51.0</td>\n",
              "      <td>2.0</td>\n",
              "      <td>0.0</td>\n",
              "      <td>1</td>\n",
              "      <td>0.0</td>\n",
              "      <td>P</td>\n",
              "      <td>464.0</td>\n",
              "      <td>O</td>\n",
              "      <td>24928.0</td>\n",
              "      <td>8464.0</td>\n",
              "      <td>584.0</td>\n",
              "      <td>320.0</td>\n",
              "      <td>0.0</td>\n",
              "      <td>60.0</td>\n",
              "      <td>0.0</td>\n",
              "    </tr>\n",
              "    <tr>\n",
              "      <th>4</th>\n",
              "      <td>65.0</td>\n",
              "      <td>0.0</td>\n",
              "      <td>0.0</td>\n",
              "      <td>1</td>\n",
              "      <td>0.0</td>\n",
              "      <td>P</td>\n",
              "      <td>15000.0</td>\n",
              "      <td>P</td>\n",
              "      <td>0.0</td>\n",
              "      <td>0.0</td>\n",
              "      <td>0.0</td>\n",
              "      <td>0.0</td>\n",
              "      <td>0.0</td>\n",
              "      <td>0.0</td>\n",
              "      <td>0.0</td>\n",
              "    </tr>\n",
              "    <tr>\n",
              "      <th>...</th>\n",
              "      <td>...</td>\n",
              "      <td>...</td>\n",
              "      <td>...</td>\n",
              "      <td>...</td>\n",
              "      <td>...</td>\n",
              "      <td>...</td>\n",
              "      <td>...</td>\n",
              "      <td>...</td>\n",
              "      <td>...</td>\n",
              "      <td>...</td>\n",
              "      <td>...</td>\n",
              "      <td>...</td>\n",
              "      <td>...</td>\n",
              "      <td>...</td>\n",
              "      <td>...</td>\n",
              "    </tr>\n",
              "    <tr>\n",
              "      <th>1220</th>\n",
              "      <td>52.0</td>\n",
              "      <td>4.0</td>\n",
              "      <td>1.0</td>\n",
              "      <td>1</td>\n",
              "      <td>0.0</td>\n",
              "      <td>V</td>\n",
              "      <td>37764.0</td>\n",
              "      <td>U</td>\n",
              "      <td>0.0</td>\n",
              "      <td>0.0</td>\n",
              "      <td>0.0</td>\n",
              "      <td>340.0</td>\n",
              "      <td>0.0</td>\n",
              "      <td>0.0</td>\n",
              "      <td>0.0</td>\n",
              "    </tr>\n",
              "    <tr>\n",
              "      <th>1221</th>\n",
              "      <td>56.0</td>\n",
              "      <td>3.0</td>\n",
              "      <td>0.0</td>\n",
              "      <td>1</td>\n",
              "      <td>1200.0</td>\n",
              "      <td>P</td>\n",
              "      <td>31500.0</td>\n",
              "      <td>O</td>\n",
              "      <td>6928.0</td>\n",
              "      <td>46464.0</td>\n",
              "      <td>784.0</td>\n",
              "      <td>256.0</td>\n",
              "      <td>0.0</td>\n",
              "      <td>0.0</td>\n",
              "      <td>1.0</td>\n",
              "    </tr>\n",
              "    <tr>\n",
              "      <th>1222</th>\n",
              "      <td>60.0</td>\n",
              "      <td>0.0</td>\n",
              "      <td>0.0</td>\n",
              "      <td>1</td>\n",
              "      <td>0.0</td>\n",
              "      <td>E</td>\n",
              "      <td>46800.0</td>\n",
              "      <td>O</td>\n",
              "      <td>11392.0</td>\n",
              "      <td>928.0</td>\n",
              "      <td>1144.0</td>\n",
              "      <td>680.0</td>\n",
              "      <td>0.0</td>\n",
              "      <td>108.0</td>\n",
              "      <td>0.0</td>\n",
              "    </tr>\n",
              "    <tr>\n",
              "      <th>1223</th>\n",
              "      <td>20.0</td>\n",
              "      <td>0.0</td>\n",
              "      <td>0.0</td>\n",
              "      <td>1</td>\n",
              "      <td>0.0</td>\n",
              "      <td>R</td>\n",
              "      <td>0.0</td>\n",
              "      <td>N</td>\n",
              "      <td>0.0</td>\n",
              "      <td>0.0</td>\n",
              "      <td>0.0</td>\n",
              "      <td>0.0</td>\n",
              "      <td>0.0</td>\n",
              "      <td>0.0</td>\n",
              "      <td>1.0</td>\n",
              "    </tr>\n",
              "    <tr>\n",
              "      <th>1224</th>\n",
              "      <td>66.0</td>\n",
              "      <td>0.0</td>\n",
              "      <td>0.0</td>\n",
              "      <td>1</td>\n",
              "      <td>0.0</td>\n",
              "      <td>T</td>\n",
              "      <td>5538.0</td>\n",
              "      <td>P</td>\n",
              "      <td>0.0</td>\n",
              "      <td>0.0</td>\n",
              "      <td>492.0</td>\n",
              "      <td>0.0</td>\n",
              "      <td>0.0</td>\n",
              "      <td>0.0</td>\n",
              "      <td>0.0</td>\n",
              "    </tr>\n",
              "  </tbody>\n",
              "</table>\n",
              "<p>1225 rows × 15 columns</p>\n",
              "</div>\n",
              "      <button class=\"colab-df-convert\" onclick=\"convertToInteractive('df-0d37e573-e989-40f7-a6fb-62f6fc3b01ca')\"\n",
              "              title=\"Convert this dataframe to an interactive table.\"\n",
              "              style=\"display:none;\">\n",
              "        \n",
              "  <svg xmlns=\"http://www.w3.org/2000/svg\" height=\"24px\"viewBox=\"0 0 24 24\"\n",
              "       width=\"24px\">\n",
              "    <path d=\"M0 0h24v24H0V0z\" fill=\"none\"/>\n",
              "    <path d=\"M18.56 5.44l.94 2.06.94-2.06 2.06-.94-2.06-.94-.94-2.06-.94 2.06-2.06.94zm-11 1L8.5 8.5l.94-2.06 2.06-.94-2.06-.94L8.5 2.5l-.94 2.06-2.06.94zm10 10l.94 2.06.94-2.06 2.06-.94-2.06-.94-.94-2.06-.94 2.06-2.06.94z\"/><path d=\"M17.41 7.96l-1.37-1.37c-.4-.4-.92-.59-1.43-.59-.52 0-1.04.2-1.43.59L10.3 9.45l-7.72 7.72c-.78.78-.78 2.05 0 2.83L4 21.41c.39.39.9.59 1.41.59.51 0 1.02-.2 1.41-.59l7.78-7.78 2.81-2.81c.8-.78.8-2.07 0-2.86zM5.41 20L4 18.59l7.72-7.72 1.47 1.35L5.41 20z\"/>\n",
              "  </svg>\n",
              "      </button>\n",
              "      \n",
              "  <style>\n",
              "    .colab-df-container {\n",
              "      display:flex;\n",
              "      flex-wrap:wrap;\n",
              "      gap: 12px;\n",
              "    }\n",
              "\n",
              "    .colab-df-convert {\n",
              "      background-color: #E8F0FE;\n",
              "      border: none;\n",
              "      border-radius: 50%;\n",
              "      cursor: pointer;\n",
              "      display: none;\n",
              "      fill: #1967D2;\n",
              "      height: 32px;\n",
              "      padding: 0 0 0 0;\n",
              "      width: 32px;\n",
              "    }\n",
              "\n",
              "    .colab-df-convert:hover {\n",
              "      background-color: #E2EBFA;\n",
              "      box-shadow: 0px 1px 2px rgba(60, 64, 67, 0.3), 0px 1px 3px 1px rgba(60, 64, 67, 0.15);\n",
              "      fill: #174EA6;\n",
              "    }\n",
              "\n",
              "    [theme=dark] .colab-df-convert {\n",
              "      background-color: #3B4455;\n",
              "      fill: #D2E3FC;\n",
              "    }\n",
              "\n",
              "    [theme=dark] .colab-df-convert:hover {\n",
              "      background-color: #434B5C;\n",
              "      box-shadow: 0px 1px 3px 1px rgba(0, 0, 0, 0.15);\n",
              "      filter: drop-shadow(0px 1px 2px rgba(0, 0, 0, 0.3));\n",
              "      fill: #FFFFFF;\n",
              "    }\n",
              "  </style>\n",
              "\n",
              "      <script>\n",
              "        const buttonEl =\n",
              "          document.querySelector('#df-0d37e573-e989-40f7-a6fb-62f6fc3b01ca button.colab-df-convert');\n",
              "        buttonEl.style.display =\n",
              "          google.colab.kernel.accessAllowed ? 'block' : 'none';\n",
              "\n",
              "        async function convertToInteractive(key) {\n",
              "          const element = document.querySelector('#df-0d37e573-e989-40f7-a6fb-62f6fc3b01ca');\n",
              "          const dataTable =\n",
              "            await google.colab.kernel.invokeFunction('convertToInteractive',\n",
              "                                                     [key], {});\n",
              "          if (!dataTable) return;\n",
              "\n",
              "          const docLinkHtml = 'Like what you see? Visit the ' +\n",
              "            '<a target=\"_blank\" href=https://colab.research.google.com/notebooks/data_table.ipynb>data table notebook</a>'\n",
              "            + ' to learn more about interactive tables.';\n",
              "          element.innerHTML = '';\n",
              "          dataTable['output_type'] = 'display_data';\n",
              "          await google.colab.output.renderOutput(dataTable, element);\n",
              "          const docLink = document.createElement('div');\n",
              "          docLink.innerHTML = docLinkHtml;\n",
              "          element.appendChild(docLink);\n",
              "        }\n",
              "      </script>\n",
              "    </div>\n",
              "  </div>\n",
              "  "
            ],
            "text/plain": [
              "       YOB  nKIDS  nDEP  PHON  dINC_SP  ...   dOUTM  dOUTL dOUTHP  dOUTCC  BAD\n",
              "0     19.0    4.0   0.0     1      0.0  ...     0.0    0.0    0.0     0.0  0.0\n",
              "1     41.0    2.0   0.0     1      0.0  ...   280.0  664.0    0.0    80.0  0.0\n",
              "2     66.0    0.0   0.0     1      0.0  ...     0.0    0.0    0.0     0.0  0.0\n",
              "3     51.0    2.0   0.0     1      0.0  ...   584.0  320.0    0.0    60.0  0.0\n",
              "4     65.0    0.0   0.0     1      0.0  ...     0.0    0.0    0.0     0.0  0.0\n",
              "...    ...    ...   ...   ...      ...  ...     ...    ...    ...     ...  ...\n",
              "1220  52.0    4.0   1.0     1      0.0  ...     0.0  340.0    0.0     0.0  0.0\n",
              "1221  56.0    3.0   0.0     1   1200.0  ...   784.0  256.0    0.0     0.0  1.0\n",
              "1222  60.0    0.0   0.0     1      0.0  ...  1144.0  680.0    0.0   108.0  0.0\n",
              "1223  20.0    0.0   0.0     1      0.0  ...     0.0    0.0    0.0     0.0  1.0\n",
              "1224  66.0    0.0   0.0     1      0.0  ...   492.0    0.0    0.0     0.0  0.0\n",
              "\n",
              "[1225 rows x 15 columns]"
            ]
          },
          "metadata": {},
          "execution_count": 35
        }
      ],
      "source": [
        "# Load the data (either from disk or directly from the web)\n",
        "data_url = 'https://raw.githubusercontent.com/Humboldt-WI/bads/master/data/loan_data.csv'\n",
        "df = pd.read_csv(data_url,sep=';')\n",
        "df"
      ]
    },
    {
      "cell_type": "markdown",
      "metadata": {
        "id": "IlHauiUhZTzO"
      },
      "source": [
        "By now, you have run through the process of getting a first idea about a new data set many times. You have seen examples in previous tutorials and have written your own codes in, e.g., the third exercise on predictive analytics. Nonetheless, draw once more on your experience and take a quick look into the data.  "
      ]
    },
    {
      "cell_type": "code",
      "execution_count": 36,
      "metadata": {
        "id": "LSvtKE1hZTzO",
        "outputId": "f122b9eb-eb67-4512-8cfc-fee42d1a10e9",
        "colab": {
          "base_uri": "https://localhost:8080/"
        }
      },
      "outputs": [
        {
          "output_type": "stream",
          "name": "stdout",
          "text": [
            "Dimensionality of the data is (1225, 15)\n",
            "The data set has 1225 cases.\n",
            "The total number of elements is 18375.\n"
          ]
        }
      ],
      "source": [
        "# Some space for any code you want to write to take a first look\n",
        "print('Dimensionality of the data is {}'.format(df.shape))  # .shape returns a tupel\n",
        "print('The data set has {} cases.'.format(df.shape[0]))     # we can also index the elements of that tupel\n",
        "print('The total number of elements is {}.'.format(df.size))"
      ]
    },
    {
      "cell_type": "code",
      "source": [
        "df.info()"
      ],
      "metadata": {
        "id": "94VOlLJKD-jS",
        "outputId": "c623b618-1ba3-47d4-d69b-d73eebef334e",
        "colab": {
          "base_uri": "https://localhost:8080/"
        }
      },
      "execution_count": 37,
      "outputs": [
        {
          "output_type": "stream",
          "name": "stdout",
          "text": [
            "<class 'pandas.core.frame.DataFrame'>\n",
            "RangeIndex: 1225 entries, 0 to 1224\n",
            "Data columns (total 15 columns):\n",
            " #   Column   Non-Null Count  Dtype  \n",
            "---  ------   --------------  -----  \n",
            " 0   YOB      1225 non-null   float64\n",
            " 1   nKIDS    1225 non-null   float64\n",
            " 2   nDEP     1225 non-null   float64\n",
            " 3   PHON     1225 non-null   int64  \n",
            " 4   dINC_SP  1225 non-null   float64\n",
            " 5   EMPS_A   1225 non-null   object \n",
            " 6   dINC_A   1225 non-null   float64\n",
            " 7   RES      1225 non-null   object \n",
            " 8   dHVAL    1225 non-null   float64\n",
            " 9   dMBO     1225 non-null   float64\n",
            " 10  dOUTM    1225 non-null   float64\n",
            " 11  dOUTL    1225 non-null   float64\n",
            " 12  dOUTHP   1225 non-null   float64\n",
            " 13  dOUTCC   1225 non-null   float64\n",
            " 14  BAD      1225 non-null   float64\n",
            "dtypes: float64(12), int64(1), object(2)\n",
            "memory usage: 143.7+ KB\n"
          ]
        }
      ]
    },
    {
      "cell_type": "code",
      "source": [
        "df.describe()"
      ],
      "metadata": {
        "id": "L8avipXQEGNN",
        "outputId": "df3d6fb2-f6a7-4215-c184-95e413efdf04",
        "colab": {
          "base_uri": "https://localhost:8080/",
          "height": 300
        }
      },
      "execution_count": 38,
      "outputs": [
        {
          "output_type": "execute_result",
          "data": {
            "text/html": [
              "\n",
              "  <div id=\"df-05095c13-6d92-4a8e-9117-a4c2a3860529\">\n",
              "    <div class=\"colab-df-container\">\n",
              "      <div>\n",
              "<style scoped>\n",
              "    .dataframe tbody tr th:only-of-type {\n",
              "        vertical-align: middle;\n",
              "    }\n",
              "\n",
              "    .dataframe tbody tr th {\n",
              "        vertical-align: top;\n",
              "    }\n",
              "\n",
              "    .dataframe thead th {\n",
              "        text-align: right;\n",
              "    }\n",
              "</style>\n",
              "<table border=\"1\" class=\"dataframe\">\n",
              "  <thead>\n",
              "    <tr style=\"text-align: right;\">\n",
              "      <th></th>\n",
              "      <th>YOB</th>\n",
              "      <th>nKIDS</th>\n",
              "      <th>nDEP</th>\n",
              "      <th>PHON</th>\n",
              "      <th>dINC_SP</th>\n",
              "      <th>dINC_A</th>\n",
              "      <th>dHVAL</th>\n",
              "      <th>dMBO</th>\n",
              "      <th>dOUTM</th>\n",
              "      <th>dOUTL</th>\n",
              "      <th>dOUTHP</th>\n",
              "      <th>dOUTCC</th>\n",
              "      <th>BAD</th>\n",
              "    </tr>\n",
              "  </thead>\n",
              "  <tbody>\n",
              "    <tr>\n",
              "      <th>count</th>\n",
              "      <td>1225.000000</td>\n",
              "      <td>1225.000000</td>\n",
              "      <td>1225.000000</td>\n",
              "      <td>1225.000000</td>\n",
              "      <td>1225.000000</td>\n",
              "      <td>1225.000000</td>\n",
              "      <td>1225.000000</td>\n",
              "      <td>1225.000000</td>\n",
              "      <td>1225.000000</td>\n",
              "      <td>1225.000000</td>\n",
              "      <td>1225.000000</td>\n",
              "      <td>1225.000000</td>\n",
              "      <td>1225.000000</td>\n",
              "    </tr>\n",
              "    <tr>\n",
              "      <th>mean</th>\n",
              "      <td>51.037551</td>\n",
              "      <td>0.623673</td>\n",
              "      <td>0.038367</td>\n",
              "      <td>0.903673</td>\n",
              "      <td>1990.084898</td>\n",
              "      <td>21244.211429</td>\n",
              "      <td>15693.857959</td>\n",
              "      <td>11225.691429</td>\n",
              "      <td>342.004898</td>\n",
              "      <td>121.926531</td>\n",
              "      <td>28.721633</td>\n",
              "      <td>39.595102</td>\n",
              "      <td>0.263673</td>\n",
              "    </tr>\n",
              "    <tr>\n",
              "      <th>std</th>\n",
              "      <td>15.301818</td>\n",
              "      <td>1.016013</td>\n",
              "      <td>0.219917</td>\n",
              "      <td>0.295159</td>\n",
              "      <td>4802.341425</td>\n",
              "      <td>15896.207986</td>\n",
              "      <td>20736.331833</td>\n",
              "      <td>18889.207107</td>\n",
              "      <td>427.993865</td>\n",
              "      <td>839.639588</td>\n",
              "      <td>119.324084</td>\n",
              "      <td>168.697101</td>\n",
              "      <td>0.440804</td>\n",
              "    </tr>\n",
              "    <tr>\n",
              "      <th>min</th>\n",
              "      <td>3.000000</td>\n",
              "      <td>0.000000</td>\n",
              "      <td>0.000000</td>\n",
              "      <td>0.000000</td>\n",
              "      <td>0.000000</td>\n",
              "      <td>0.000000</td>\n",
              "      <td>0.000000</td>\n",
              "      <td>0.000000</td>\n",
              "      <td>0.000000</td>\n",
              "      <td>0.000000</td>\n",
              "      <td>0.000000</td>\n",
              "      <td>0.000000</td>\n",
              "      <td>0.000000</td>\n",
              "    </tr>\n",
              "    <tr>\n",
              "      <th>25%</th>\n",
              "      <td>42.000000</td>\n",
              "      <td>0.000000</td>\n",
              "      <td>0.000000</td>\n",
              "      <td>1.000000</td>\n",
              "      <td>0.000000</td>\n",
              "      <td>9000.000000</td>\n",
              "      <td>0.000000</td>\n",
              "      <td>0.000000</td>\n",
              "      <td>0.000000</td>\n",
              "      <td>0.000000</td>\n",
              "      <td>0.000000</td>\n",
              "      <td>0.000000</td>\n",
              "      <td>0.000000</td>\n",
              "    </tr>\n",
              "    <tr>\n",
              "      <th>50%</th>\n",
              "      <td>55.000000</td>\n",
              "      <td>0.000000</td>\n",
              "      <td>0.000000</td>\n",
              "      <td>1.000000</td>\n",
              "      <td>0.000000</td>\n",
              "      <td>19500.000000</td>\n",
              "      <td>0.000000</td>\n",
              "      <td>0.000000</td>\n",
              "      <td>256.000000</td>\n",
              "      <td>0.000000</td>\n",
              "      <td>0.000000</td>\n",
              "      <td>0.000000</td>\n",
              "      <td>0.000000</td>\n",
              "    </tr>\n",
              "    <tr>\n",
              "      <th>75%</th>\n",
              "      <td>63.000000</td>\n",
              "      <td>1.000000</td>\n",
              "      <td>0.000000</td>\n",
              "      <td>1.000000</td>\n",
              "      <td>1040.000000</td>\n",
              "      <td>30600.000000</td>\n",
              "      <td>28928.000000</td>\n",
              "      <td>20000.000000</td>\n",
              "      <td>528.000000</td>\n",
              "      <td>0.000000</td>\n",
              "      <td>0.000000</td>\n",
              "      <td>0.000000</td>\n",
              "      <td>1.000000</td>\n",
              "    </tr>\n",
              "    <tr>\n",
              "      <th>max</th>\n",
              "      <td>99.000000</td>\n",
              "      <td>5.000000</td>\n",
              "      <td>2.000000</td>\n",
              "      <td>1.000000</td>\n",
              "      <td>50000.000000</td>\n",
              "      <td>64800.000000</td>\n",
              "      <td>64928.000000</td>\n",
              "      <td>64000.000000</td>\n",
              "      <td>3800.000000</td>\n",
              "      <td>28000.000000</td>\n",
              "      <td>1600.000000</td>\n",
              "      <td>2800.000000</td>\n",
              "      <td>1.000000</td>\n",
              "    </tr>\n",
              "  </tbody>\n",
              "</table>\n",
              "</div>\n",
              "      <button class=\"colab-df-convert\" onclick=\"convertToInteractive('df-05095c13-6d92-4a8e-9117-a4c2a3860529')\"\n",
              "              title=\"Convert this dataframe to an interactive table.\"\n",
              "              style=\"display:none;\">\n",
              "        \n",
              "  <svg xmlns=\"http://www.w3.org/2000/svg\" height=\"24px\"viewBox=\"0 0 24 24\"\n",
              "       width=\"24px\">\n",
              "    <path d=\"M0 0h24v24H0V0z\" fill=\"none\"/>\n",
              "    <path d=\"M18.56 5.44l.94 2.06.94-2.06 2.06-.94-2.06-.94-.94-2.06-.94 2.06-2.06.94zm-11 1L8.5 8.5l.94-2.06 2.06-.94-2.06-.94L8.5 2.5l-.94 2.06-2.06.94zm10 10l.94 2.06.94-2.06 2.06-.94-2.06-.94-.94-2.06-.94 2.06-2.06.94z\"/><path d=\"M17.41 7.96l-1.37-1.37c-.4-.4-.92-.59-1.43-.59-.52 0-1.04.2-1.43.59L10.3 9.45l-7.72 7.72c-.78.78-.78 2.05 0 2.83L4 21.41c.39.39.9.59 1.41.59.51 0 1.02-.2 1.41-.59l7.78-7.78 2.81-2.81c.8-.78.8-2.07 0-2.86zM5.41 20L4 18.59l7.72-7.72 1.47 1.35L5.41 20z\"/>\n",
              "  </svg>\n",
              "      </button>\n",
              "      \n",
              "  <style>\n",
              "    .colab-df-container {\n",
              "      display:flex;\n",
              "      flex-wrap:wrap;\n",
              "      gap: 12px;\n",
              "    }\n",
              "\n",
              "    .colab-df-convert {\n",
              "      background-color: #E8F0FE;\n",
              "      border: none;\n",
              "      border-radius: 50%;\n",
              "      cursor: pointer;\n",
              "      display: none;\n",
              "      fill: #1967D2;\n",
              "      height: 32px;\n",
              "      padding: 0 0 0 0;\n",
              "      width: 32px;\n",
              "    }\n",
              "\n",
              "    .colab-df-convert:hover {\n",
              "      background-color: #E2EBFA;\n",
              "      box-shadow: 0px 1px 2px rgba(60, 64, 67, 0.3), 0px 1px 3px 1px rgba(60, 64, 67, 0.15);\n",
              "      fill: #174EA6;\n",
              "    }\n",
              "\n",
              "    [theme=dark] .colab-df-convert {\n",
              "      background-color: #3B4455;\n",
              "      fill: #D2E3FC;\n",
              "    }\n",
              "\n",
              "    [theme=dark] .colab-df-convert:hover {\n",
              "      background-color: #434B5C;\n",
              "      box-shadow: 0px 1px 3px 1px rgba(0, 0, 0, 0.15);\n",
              "      filter: drop-shadow(0px 1px 2px rgba(0, 0, 0, 0.3));\n",
              "      fill: #FFFFFF;\n",
              "    }\n",
              "  </style>\n",
              "\n",
              "      <script>\n",
              "        const buttonEl =\n",
              "          document.querySelector('#df-05095c13-6d92-4a8e-9117-a4c2a3860529 button.colab-df-convert');\n",
              "        buttonEl.style.display =\n",
              "          google.colab.kernel.accessAllowed ? 'block' : 'none';\n",
              "\n",
              "        async function convertToInteractive(key) {\n",
              "          const element = document.querySelector('#df-05095c13-6d92-4a8e-9117-a4c2a3860529');\n",
              "          const dataTable =\n",
              "            await google.colab.kernel.invokeFunction('convertToInteractive',\n",
              "                                                     [key], {});\n",
              "          if (!dataTable) return;\n",
              "\n",
              "          const docLinkHtml = 'Like what you see? Visit the ' +\n",
              "            '<a target=\"_blank\" href=https://colab.research.google.com/notebooks/data_table.ipynb>data table notebook</a>'\n",
              "            + ' to learn more about interactive tables.';\n",
              "          element.innerHTML = '';\n",
              "          dataTable['output_type'] = 'display_data';\n",
              "          await google.colab.output.renderOutput(dataTable, element);\n",
              "          const docLink = document.createElement('div');\n",
              "          docLink.innerHTML = docLinkHtml;\n",
              "          element.appendChild(docLink);\n",
              "        }\n",
              "      </script>\n",
              "    </div>\n",
              "  </div>\n",
              "  "
            ],
            "text/plain": [
              "               YOB        nKIDS  ...       dOUTCC          BAD\n",
              "count  1225.000000  1225.000000  ...  1225.000000  1225.000000\n",
              "mean     51.037551     0.623673  ...    39.595102     0.263673\n",
              "std      15.301818     1.016013  ...   168.697101     0.440804\n",
              "min       3.000000     0.000000  ...     0.000000     0.000000\n",
              "25%      42.000000     0.000000  ...     0.000000     0.000000\n",
              "50%      55.000000     0.000000  ...     0.000000     0.000000\n",
              "75%      63.000000     1.000000  ...     0.000000     1.000000\n",
              "max      99.000000     5.000000  ...  2800.000000     1.000000\n",
              "\n",
              "[8 rows x 13 columns]"
            ]
          },
          "metadata": {},
          "execution_count": 38
        }
      ]
    },
    {
      "cell_type": "markdown",
      "metadata": {
        "id": "86a0L4iMZTzO"
      },
      "source": [
        "## 2 Data types\n",
        "You can tell from the data dictionary that the loan data includes numeric and categorical variables. Draw on the examples from [Tutorial 4](https://github.com/Humboldt-WI/bads/blob/master/tutorials/4_nb_data_preparation.ipynb) and make sure that all numeric features are stored as `float32` and all categorical features are stored as categories in your DataFame. Also, ensure that the feature `PHON` is stored as a boolean. Finally pick a suitable data type for the target variable `BAD`."
      ]
    },
    {
      "cell_type": "code",
      "execution_count": 39,
      "metadata": {
        "id": "kYjMr06j_4-U",
        "outputId": "0cb8af5e-6280-49ed-da18-3302f9ab1713",
        "colab": {
          "base_uri": "https://localhost:8080/"
        }
      },
      "outputs": [
        {
          "output_type": "execute_result",
          "data": {
            "text/plain": [
              "1    1107\n",
              "0     118\n",
              "Name: PHON, dtype: int64"
            ]
          },
          "metadata": {},
          "execution_count": 39
        }
      ],
      "source": [
        "df.PHON.value_counts()"
      ]
    },
    {
      "cell_type": "code",
      "source": [
        "df.EMPS_A.value_counts()"
      ],
      "metadata": {
        "id": "8LX4de2cJ8WQ",
        "outputId": "08e6a721-377a-4159-e0a4-c619b3624fba",
        "colab": {
          "base_uri": "https://localhost:8080/"
        }
      },
      "execution_count": 40,
      "outputs": [
        {
          "output_type": "execute_result",
          "data": {
            "text/plain": [
              "P    531\n",
              "V    231\n",
              "E    124\n",
              "T    123\n",
              "R    104\n",
              "W     37\n",
              "B     30\n",
              "M     23\n",
              "Z      8\n",
              "U      8\n",
              "N      6\n",
              "Name: EMPS_A, dtype: int64"
            ]
          },
          "metadata": {},
          "execution_count": 40
        }
      ]
    },
    {
      "cell_type": "code",
      "source": [
        "df.RES.value_counts()"
      ],
      "metadata": {
        "id": "BzonS3aiKG3p",
        "outputId": "ee49f9c7-15df-4782-880a-d6a586837be0",
        "colab": {
          "base_uri": "https://localhost:8080/"
        }
      },
      "execution_count": 41,
      "outputs": [
        {
          "output_type": "execute_result",
          "data": {
            "text/plain": [
              "O    624\n",
              "P    252\n",
              "U    154\n",
              "F    129\n",
              "N     66\n",
              "Name: RES, dtype: int64"
            ]
          },
          "metadata": {},
          "execution_count": 41
        }
      ]
    },
    {
      "cell_type": "code",
      "source": [
        "\n",
        "# Conversion of BAD\n",
        "df['BAD'] = df['BAD'].astype('boolean')\n",
        "# Conversion of PHON\n",
        "df['PHON'] = df['PHON'].astype('boolean')\n",
        "# Handling of the categorical features\n",
        "df['EMPS_A'] = df['EMPS_A'].astype('category')\n",
        "df['RES'] = df['RES'].astype('category')\n",
        "# Handling of the numerical features\n",
        "num_vars = df.select_dtypes(include=np.float64).columns\n",
        "df[num_vars] = df[num_vars].astype(np.float32)\n",
        "# Verify success of your changes \n",
        "df.info()"
      ],
      "metadata": {
        "id": "yCRrl1cOJx4j",
        "outputId": "98fd6d9c-97f3-4e69-fc54-8b3380003d24",
        "colab": {
          "base_uri": "https://localhost:8080/"
        }
      },
      "execution_count": 42,
      "outputs": [
        {
          "output_type": "stream",
          "name": "stdout",
          "text": [
            "<class 'pandas.core.frame.DataFrame'>\n",
            "RangeIndex: 1225 entries, 0 to 1224\n",
            "Data columns (total 15 columns):\n",
            " #   Column   Non-Null Count  Dtype   \n",
            "---  ------   --------------  -----   \n",
            " 0   YOB      1225 non-null   float32 \n",
            " 1   nKIDS    1225 non-null   float32 \n",
            " 2   nDEP     1225 non-null   float32 \n",
            " 3   PHON     1225 non-null   boolean \n",
            " 4   dINC_SP  1225 non-null   float32 \n",
            " 5   EMPS_A   1225 non-null   category\n",
            " 6   dINC_A   1225 non-null   float32 \n",
            " 7   RES      1225 non-null   category\n",
            " 8   dHVAL    1225 non-null   float32 \n",
            " 9   dMBO     1225 non-null   float32 \n",
            " 10  dOUTM    1225 non-null   float32 \n",
            " 11  dOUTL    1225 non-null   float32 \n",
            " 12  dOUTHP   1225 non-null   float32 \n",
            " 13  dOUTCC   1225 non-null   float32 \n",
            " 14  BAD      1225 non-null   boolean \n",
            "dtypes: boolean(2), category(2), float32(11)\n",
            "memory usage: 60.5 KB\n"
          ]
        }
      ]
    },
    {
      "cell_type": "markdown",
      "metadata": {
        "id": "VBHdKZhVZTzO"
      },
      "source": [
        "## EDA\n",
        "### 3.1 Histogram\n",
        "The data includes a feature dINC_A, which captures the income of a credit applicant. We would expect that this feature is related to our target variable, which is called BAD in the data set. \n",
        "\n",
        "Create a histogram plot of the income feature and examine its distribution."
      ]
    },
    {
      "cell_type": "code",
      "execution_count": 43,
      "metadata": {
        "id": "TOrcl7obZTzO",
        "outputId": "aa825f2f-7e42-4cba-9444-90d7726f13c5",
        "colab": {
          "base_uri": "https://localhost:8080/",
          "height": 426
        }
      },
      "outputs": [
        {
          "output_type": "execute_result",
          "data": {
            "text/plain": [
              "array([[<matplotlib.axes._subplots.AxesSubplot object at 0x7fe0f8c01a90>]],\n",
              "      dtype=object)"
            ]
          },
          "metadata": {},
          "execution_count": 43
        },
        {
          "output_type": "display_data",
          "data": {
            "image/png": "[encoded data removed]",
            "text/plain": [
              "<Figure size 576x432 with 1 Axes>"
            ]
          },
          "metadata": {
            "needs_background": "light"
          }
        }
      ],
      "source": [
        "# Histogram of dINC_A \n",
        "df.hist(column = 'dINC_A', bins = 25, figsize=(8,6))"
      ]
    },
    {
      "cell_type": "markdown",
      "metadata": {
        "id": "RA2E41Q-ZTzO"
      },
      "source": [
        "The distribution reveals some potentially important insights. However, the histogram alone does not suffice to check our intuition that income and credit risk are related. To that end, let's examine the income distribution across good and bad credit applications.\n",
        "\n",
        "### 3.2 Analysis of the dependency between applicants' income and credit risk\n",
        "We begin with a manual approach, which also allows us to revisit logical indexing in Python and Pandas. Calculate the average income of a credit applicant for good risks and for bad risks."
      ]
    },
    {
      "cell_type": "code",
      "execution_count": 44,
      "metadata": {
        "id": "ozLSHlVOZTzO",
        "outputId": "b9ee9bd9-97fa-47aa-f2d1-5921005fd1ad",
        "colab": {
          "base_uri": "https://localhost:8080/"
        }
      },
      "outputs": [
        {
          "output_type": "stream",
          "name": "stdout",
          "text": [
            "Mean income for GOOD risks:dINC_A    23008.644531\n",
            "dtype: float32\n",
            "Mean income for BAD risks: dINC_A    16316.913086\n",
            "dtype: float32\n"
          ]
        }
      ],
      "source": [
        "# Calculate the group-wise mean of dINC_A for good and bad risks using logical indexing\n",
        "good_risk=df.loc[df.BAD==0,['dINC_A']].mean()\n",
        "bad_risk=df.loc[df.BAD==1,['dINC_A']].mean()\n",
        "print(\"Mean income for GOOD risks:{}\".format(good_risk))\n",
        "print(\"Mean income for BAD risks: {}\".format(bad_risk))\n"
      ]
    },
    {
      "cell_type": "code",
      "source": [
        "df.info()"
      ],
      "metadata": {
        "id": "eR1wN_hyMoqw",
        "outputId": "ca76ee84-14a6-4898-e9ce-ce12861764d9",
        "colab": {
          "base_uri": "https://localhost:8080/"
        }
      },
      "execution_count": 45,
      "outputs": [
        {
          "output_type": "stream",
          "name": "stdout",
          "text": [
            "<class 'pandas.core.frame.DataFrame'>\n",
            "RangeIndex: 1225 entries, 0 to 1224\n",
            "Data columns (total 15 columns):\n",
            " #   Column   Non-Null Count  Dtype   \n",
            "---  ------   --------------  -----   \n",
            " 0   YOB      1225 non-null   float32 \n",
            " 1   nKIDS    1225 non-null   float32 \n",
            " 2   nDEP     1225 non-null   float32 \n",
            " 3   PHON     1225 non-null   boolean \n",
            " 4   dINC_SP  1225 non-null   float32 \n",
            " 5   EMPS_A   1225 non-null   category\n",
            " 6   dINC_A   1225 non-null   float32 \n",
            " 7   RES      1225 non-null   category\n",
            " 8   dHVAL    1225 non-null   float32 \n",
            " 9   dMBO     1225 non-null   float32 \n",
            " 10  dOUTM    1225 non-null   float32 \n",
            " 11  dOUTL    1225 non-null   float32 \n",
            " 12  dOUTHP   1225 non-null   float32 \n",
            " 13  dOUTCC   1225 non-null   float32 \n",
            " 14  BAD      1225 non-null   boolean \n",
            "dtypes: boolean(2), category(2), float32(11)\n",
            "memory usage: 60.5 KB\n"
          ]
        }
      ]
    },
    {
      "cell_type": "markdown",
      "metadata": {
        "id": "1BGB_zEbZTzO"
      },
      "source": [
        "Remember that the Pandas function `groupby()` allows you to perform an analysis similar to your above calculation of the group-wise means. Replicate the previous calculation using `groupby()`.  "
      ]
    },
    {
      "cell_type": "code",
      "execution_count": 46,
      "metadata": {
        "id": "Hw0DEqzbZTzO",
        "outputId": "f3a424cd-1c50-49a0-9041-bf48b5bb8764",
        "colab": {
          "base_uri": "https://localhost:8080/"
        }
      },
      "outputs": [
        {
          "output_type": "execute_result",
          "data": {
            "text/plain": [
              "BAD\n",
              "False    23008.642578\n",
              "True     16316.913086\n",
              "Name: dINC_A, dtype: float32"
            ]
          },
          "metadata": {},
          "execution_count": 46
        }
      ],
      "source": [
        "# Replicate previous results using groupby()\n",
        "df.groupby('BAD')['dINC_A'].mean()"
      ]
    },
    {
      "cell_type": "markdown",
      "metadata": {
        "id": "iX1sCedMZTzO"
      },
      "source": [
        "Next, we perform a graphical analysis. Depict the distribution of the income of customers with a good and bad risk, respectively, by means of a box-plot."
      ]
    },
    {
      "cell_type": "code",
      "execution_count": 49,
      "metadata": {
        "id": "0InCH1Z_ZTzP",
        "outputId": "c7542c22-19b9-4b39-e80e-cb307b720212",
        "colab": {
          "base_uri": "https://localhost:8080/",
          "height": 476
        }
      },
      "outputs": [
        {
          "output_type": "stream",
          "name": "stderr",
          "text": [
            "/usr/local/lib/python3.7/dist-packages/numpy/core/_asarray.py:83: VisibleDeprecationWarning: Creating an ndarray from ragged nested sequences (which is a list-or-tuple of lists-or-tuples-or ndarrays with different lengths or shapes) is deprecated. If you meant to do this, you must specify 'dtype=object' when creating the ndarray\n",
            "  return array(a, dtype, copy=False, order=order)\n"
          ]
        },
        {
          "output_type": "display_data",
          "data": {
            "image/png": "[encoded data removed]",
            "text/plain": [
              "<Figure size 576x432 with 1 Axes>"
            ]
          },
          "metadata": {
            "needs_background": "light"
          }
        }
      ],
      "source": [
        "# Box plot\n",
        "df.boxplot(column = 'dINC_A',\n",
        "          by = 'BAD',\n",
        "            figsize = (8,6));"
      ]
    },
    {
      "cell_type": "markdown",
      "metadata": {
        "id": "zqci-rUtZTzP"
      },
      "source": [
        "### 3.3 Statistical testing\n",
        "Identify an appropriate statistical test to verify whether the observed income difference between good and bad applicants is statistically significant. Perform the test and display its results. Hint: A web-search similar to “statistical test difference in means python” will help."
      ]
    },
    {
      "cell_type": "code",
      "execution_count": 53,
      "metadata": {
        "id": "G-tpjC8SZTzP",
        "outputId": "a35e92a3-8928-46fb-ecbd-8e8ba3e6966f",
        "colab": {
          "base_uri": "https://localhost:8080/"
        }
      },
      "outputs": [
        {
          "output_type": "execute_result",
          "data": {
            "text/plain": [
              "LeveneResult(statistic=0.034214288195485554, pvalue=0.8532824134210151)"
            ]
          },
          "metadata": {},
          "execution_count": 53
        }
      ],
      "source": [
        "# Statistical testing of mean differences in income (i.e., feature dINC_A)\n",
        "from scipy import stats\n",
        "stats.levene(df.loc[df['BAD']==0]['dINC_A'],\n",
        "             df.loc[df['BAD']==1]['dINC_A'])\n",
        "\n",
        "#two-sided t-test = statistical testing, "
      ]
    },
    {
      "cell_type": "code",
      "source": [
        "stats.ttest_ind(df.loc[df['BAD']==0]['dINC_A'],\n",
        "                df.loc[df['BAD']==1]['dINC_A'],\n",
        "                equal_var = True)\n",
        "#when p value << 1, you can reject the null hypothesis"
      ],
      "metadata": {
        "id": "nSpfOACNPWdY",
        "outputId": "8eb600f8-caab-4ca8-dfdf-67e78b35522d",
        "colab": {
          "base_uri": "https://localhost:8080/"
        }
      },
      "execution_count": 54,
      "outputs": [
        {
          "output_type": "execute_result",
          "data": {
            "text/plain": [
              "Ttest_indResult(statistic=6.6040866243773175, pvalue=5.950120052144809e-11)"
            ]
          },
          "metadata": {},
          "execution_count": 54
        }
      ]
    },
    {
      "cell_type": "markdown",
      "metadata": {
        "id": "CoStoQjjZTzP"
      },
      "source": [
        "### 3.4 Categorical variables\n",
        "The data set comprises three categorical features. The feature PHON is binary and will not cause any issues. The features EMPS_A and RES are more interesting. Remember to check the data dictionary to understand what information the features encode. \n",
        "\n",
        "In the lecture, we explained that categorical features are typically encoded using dummy variables prior to applying an analytical model. Python supports dummy coding in several ways.  Pandas offers a function `get_dummies()` and sklearn offer a class `OneHotEncoder()`. The Pandas approach is maybe a bit easier to use. The more prevalent approach in practice is to rely on sklearn. \n",
        "\n",
        "Check the documentation of one or both of the above functions. Then create dummy variables for the feature RES and add them to your DataFrame.   "
      ]
    },
    {
      "cell_type": "code",
      "execution_count": 60,
      "metadata": {
        "id": "sGRN72W0ZTzP",
        "outputId": "e750263f-75b8-40a1-8fc7-d7ae77e77c59",
        "colab": {
          "base_uri": "https://localhost:8080/",
          "height": 224
        }
      },
      "outputs": [
        {
          "output_type": "stream",
          "name": "stdout",
          "text": [
            "(1225, 19)\n"
          ]
        },
        {
          "output_type": "execute_result",
          "data": {
            "text/html": [
              "\n",
              "  <div id=\"df-758bee2a-a21e-4b22-91f5-bbf07e1eab50\">\n",
              "    <div class=\"colab-df-container\">\n",
              "      <div>\n",
              "<style scoped>\n",
              "    .dataframe tbody tr th:only-of-type {\n",
              "        vertical-align: middle;\n",
              "    }\n",
              "\n",
              "    .dataframe tbody tr th {\n",
              "        vertical-align: top;\n",
              "    }\n",
              "\n",
              "    .dataframe thead th {\n",
              "        text-align: right;\n",
              "    }\n",
              "</style>\n",
              "<table border=\"1\" class=\"dataframe\">\n",
              "  <thead>\n",
              "    <tr style=\"text-align: right;\">\n",
              "      <th></th>\n",
              "      <th>YOB</th>\n",
              "      <th>nKIDS</th>\n",
              "      <th>nDEP</th>\n",
              "      <th>PHON</th>\n",
              "      <th>dINC_SP</th>\n",
              "      <th>EMPS_A</th>\n",
              "      <th>dINC_A</th>\n",
              "      <th>dHVAL</th>\n",
              "      <th>dMBO</th>\n",
              "      <th>dOUTM</th>\n",
              "      <th>dOUTL</th>\n",
              "      <th>dOUTHP</th>\n",
              "      <th>dOUTCC</th>\n",
              "      <th>BAD</th>\n",
              "      <th>RES_F</th>\n",
              "      <th>RES_N</th>\n",
              "      <th>RES_O</th>\n",
              "      <th>RES_P</th>\n",
              "      <th>RES_U</th>\n",
              "    </tr>\n",
              "  </thead>\n",
              "  <tbody>\n",
              "    <tr>\n",
              "      <th>0</th>\n",
              "      <td>19.0</td>\n",
              "      <td>4.0</td>\n",
              "      <td>0.0</td>\n",
              "      <td>True</td>\n",
              "      <td>0.0</td>\n",
              "      <td>R</td>\n",
              "      <td>0.0</td>\n",
              "      <td>14464.0</td>\n",
              "      <td>4.0</td>\n",
              "      <td>0.0</td>\n",
              "      <td>0.0</td>\n",
              "      <td>0.0</td>\n",
              "      <td>0.0</td>\n",
              "      <td>False</td>\n",
              "      <td>0</td>\n",
              "      <td>0</td>\n",
              "      <td>1</td>\n",
              "      <td>0</td>\n",
              "      <td>0</td>\n",
              "    </tr>\n",
              "    <tr>\n",
              "      <th>1</th>\n",
              "      <td>41.0</td>\n",
              "      <td>2.0</td>\n",
              "      <td>0.0</td>\n",
              "      <td>True</td>\n",
              "      <td>0.0</td>\n",
              "      <td>P</td>\n",
              "      <td>36000.0</td>\n",
              "      <td>0.0</td>\n",
              "      <td>0.0</td>\n",
              "      <td>280.0</td>\n",
              "      <td>664.0</td>\n",
              "      <td>0.0</td>\n",
              "      <td>80.0</td>\n",
              "      <td>False</td>\n",
              "      <td>0</td>\n",
              "      <td>0</td>\n",
              "      <td>1</td>\n",
              "      <td>0</td>\n",
              "      <td>0</td>\n",
              "    </tr>\n",
              "    <tr>\n",
              "      <th>2</th>\n",
              "      <td>66.0</td>\n",
              "      <td>0.0</td>\n",
              "      <td>0.0</td>\n",
              "      <td>True</td>\n",
              "      <td>0.0</td>\n",
              "      <td>N</td>\n",
              "      <td>30000.0</td>\n",
              "      <td>0.0</td>\n",
              "      <td>0.0</td>\n",
              "      <td>0.0</td>\n",
              "      <td>0.0</td>\n",
              "      <td>0.0</td>\n",
              "      <td>0.0</td>\n",
              "      <td>False</td>\n",
              "      <td>0</td>\n",
              "      <td>1</td>\n",
              "      <td>0</td>\n",
              "      <td>0</td>\n",
              "      <td>0</td>\n",
              "    </tr>\n",
              "    <tr>\n",
              "      <th>3</th>\n",
              "      <td>51.0</td>\n",
              "      <td>2.0</td>\n",
              "      <td>0.0</td>\n",
              "      <td>True</td>\n",
              "      <td>0.0</td>\n",
              "      <td>P</td>\n",
              "      <td>464.0</td>\n",
              "      <td>24928.0</td>\n",
              "      <td>8464.0</td>\n",
              "      <td>584.0</td>\n",
              "      <td>320.0</td>\n",
              "      <td>0.0</td>\n",
              "      <td>60.0</td>\n",
              "      <td>False</td>\n",
              "      <td>0</td>\n",
              "      <td>0</td>\n",
              "      <td>1</td>\n",
              "      <td>0</td>\n",
              "      <td>0</td>\n",
              "    </tr>\n",
              "    <tr>\n",
              "      <th>4</th>\n",
              "      <td>65.0</td>\n",
              "      <td>0.0</td>\n",
              "      <td>0.0</td>\n",
              "      <td>True</td>\n",
              "      <td>0.0</td>\n",
              "      <td>P</td>\n",
              "      <td>15000.0</td>\n",
              "      <td>0.0</td>\n",
              "      <td>0.0</td>\n",
              "      <td>0.0</td>\n",
              "      <td>0.0</td>\n",
              "      <td>0.0</td>\n",
              "      <td>0.0</td>\n",
              "      <td>False</td>\n",
              "      <td>0</td>\n",
              "      <td>0</td>\n",
              "      <td>0</td>\n",
              "      <td>1</td>\n",
              "      <td>0</td>\n",
              "    </tr>\n",
              "  </tbody>\n",
              "</table>\n",
              "</div>\n",
              "      <button class=\"colab-df-convert\" onclick=\"convertToInteractive('df-758bee2a-a21e-4b22-91f5-bbf07e1eab50')\"\n",
              "              title=\"Convert this dataframe to an interactive table.\"\n",
              "              style=\"display:none;\">\n",
              "        \n",
              "  <svg xmlns=\"http://www.w3.org/2000/svg\" height=\"24px\"viewBox=\"0 0 24 24\"\n",
              "       width=\"24px\">\n",
              "    <path d=\"M0 0h24v24H0V0z\" fill=\"none\"/>\n",
              "    <path d=\"M18.56 5.44l.94 2.06.94-2.06 2.06-.94-2.06-.94-.94-2.06-.94 2.06-2.06.94zm-11 1L8.5 8.5l.94-2.06 2.06-.94-2.06-.94L8.5 2.5l-.94 2.06-2.06.94zm10 10l.94 2.06.94-2.06 2.06-.94-2.06-.94-.94-2.06-.94 2.06-2.06.94z\"/><path d=\"M17.41 7.96l-1.37-1.37c-.4-.4-.92-.59-1.43-.59-.52 0-1.04.2-1.43.59L10.3 9.45l-7.72 7.72c-.78.78-.78 2.05 0 2.83L4 21.41c.39.39.9.59 1.41.59.51 0 1.02-.2 1.41-.59l7.78-7.78 2.81-2.81c.8-.78.8-2.07 0-2.86zM5.41 20L4 18.59l7.72-7.72 1.47 1.35L5.41 20z\"/>\n",
              "  </svg>\n",
              "      </button>\n",
              "      \n",
              "  <style>\n",
              "    .colab-df-container {\n",
              "      display:flex;\n",
              "      flex-wrap:wrap;\n",
              "      gap: 12px;\n",
              "    }\n",
              "\n",
              "    .colab-df-convert {\n",
              "      background-color: #E8F0FE;\n",
              "      border: none;\n",
              "      border-radius: 50%;\n",
              "      cursor: pointer;\n",
              "      display: none;\n",
              "      fill: #1967D2;\n",
              "      height: 32px;\n",
              "      padding: 0 0 0 0;\n",
              "      width: 32px;\n",
              "    }\n",
              "\n",
              "    .colab-df-convert:hover {\n",
              "      background-color: #E2EBFA;\n",
              "      box-shadow: 0px 1px 2px rgba(60, 64, 67, 0.3), 0px 1px 3px 1px rgba(60, 64, 67, 0.15);\n",
              "      fill: #174EA6;\n",
              "    }\n",
              "\n",
              "    [theme=dark] .colab-df-convert {\n",
              "      background-color: #3B4455;\n",
              "      fill: #D2E3FC;\n",
              "    }\n",
              "\n",
              "    [theme=dark] .colab-df-convert:hover {\n",
              "      background-color: #434B5C;\n",
              "      box-shadow: 0px 1px 3px 1px rgba(0, 0, 0, 0.15);\n",
              "      filter: drop-shadow(0px 1px 2px rgba(0, 0, 0, 0.3));\n",
              "      fill: #FFFFFF;\n",
              "    }\n",
              "  </style>\n",
              "\n",
              "      <script>\n",
              "        const buttonEl =\n",
              "          document.querySelector('#df-758bee2a-a21e-4b22-91f5-bbf07e1eab50 button.colab-df-convert');\n",
              "        buttonEl.style.display =\n",
              "          google.colab.kernel.accessAllowed ? 'block' : 'none';\n",
              "\n",
              "        async function convertToInteractive(key) {\n",
              "          const element = document.querySelector('#df-758bee2a-a21e-4b22-91f5-bbf07e1eab50');\n",
              "          const dataTable =\n",
              "            await google.colab.kernel.invokeFunction('convertToInteractive',\n",
              "                                                     [key], {});\n",
              "          if (!dataTable) return;\n",
              "\n",
              "          const docLinkHtml = 'Like what you see? Visit the ' +\n",
              "            '<a target=\"_blank\" href=https://colab.research.google.com/notebooks/data_table.ipynb>data table notebook</a>'\n",
              "            + ' to learn more about interactive tables.';\n",
              "          element.innerHTML = '';\n",
              "          dataTable['output_type'] = 'display_data';\n",
              "          await google.colab.output.renderOutput(dataTable, element);\n",
              "          const docLink = document.createElement('div');\n",
              "          docLink.innerHTML = docLinkHtml;\n",
              "          element.appendChild(docLink);\n",
              "        }\n",
              "      </script>\n",
              "    </div>\n",
              "  </div>\n",
              "  "
            ],
            "text/plain": [
              "    YOB  nKIDS  nDEP  PHON  dINC_SP  ... RES_F  RES_N  RES_O  RES_P  RES_U\n",
              "0  19.0    4.0   0.0  True      0.0  ...     0      0      1      0      0\n",
              "1  41.0    2.0   0.0  True      0.0  ...     0      0      1      0      0\n",
              "2  66.0    0.0   0.0  True      0.0  ...     0      1      0      0      0\n",
              "3  51.0    2.0   0.0  True      0.0  ...     0      0      1      0      0\n",
              "4  65.0    0.0   0.0  True      0.0  ...     0      0      0      1      0\n",
              "\n",
              "[5 rows x 19 columns]"
            ]
          },
          "metadata": {},
          "execution_count": 60
        }
      ],
      "source": [
        "# Dummy coding of RES\n",
        "df_dummies = pd.get_dummies(df, columns=['RES'])\n",
        "print(df_dummies.shape)\n",
        "df_dummies.head()"
      ]
    },
    {
      "cell_type": "markdown",
      "metadata": {
        "id": "vO38EkoKZTzP"
      },
      "source": [
        "The feature EMPS_A has more distinct levels. Considering the previous task, it is obvious that dummy coding the feature will increase dimensionality substantially. To avoid this, it makes sense to **regroup** the category levels prior to dummy coding. \n",
        "\n",
        "In the lecture on data preparation, we argued that a pivot table helps to identify category levels that we can merge. Specifically, we were recommending merging category levels for which the odds-ratio (i.e., the ratio of goods to bads) is similar. Write code to calculate the odds ratio for each level of the feature EMPS_A"
      ]
    },
    {
      "cell_type": "code",
      "execution_count": 64,
      "metadata": {
        "id": "agPvI8ejZTzP",
        "outputId": "c14f6db1-0ccb-49f2-f3fe-ffd92b89c867",
        "colab": {
          "base_uri": "https://localhost:8080/",
          "height": 426
        }
      },
      "outputs": [
        {
          "output_type": "execute_result",
          "data": {
            "text/html": [
              "\n",
              "  <div id=\"df-9f278464-07fa-473a-a0d7-3b4e3d8de9ac\">\n",
              "    <div class=\"colab-df-container\">\n",
              "      <div>\n",
              "<style scoped>\n",
              "    .dataframe tbody tr th:only-of-type {\n",
              "        vertical-align: middle;\n",
              "    }\n",
              "\n",
              "    .dataframe tbody tr th {\n",
              "        vertical-align: top;\n",
              "    }\n",
              "\n",
              "    .dataframe thead th {\n",
              "        text-align: right;\n",
              "    }\n",
              "</style>\n",
              "<table border=\"1\" class=\"dataframe\">\n",
              "  <thead>\n",
              "    <tr style=\"text-align: right;\">\n",
              "      <th>BAD</th>\n",
              "      <th>False</th>\n",
              "      <th>True</th>\n",
              "      <th>odds_ration</th>\n",
              "    </tr>\n",
              "    <tr>\n",
              "      <th>EMPS_A</th>\n",
              "      <th></th>\n",
              "      <th></th>\n",
              "      <th></th>\n",
              "    </tr>\n",
              "  </thead>\n",
              "  <tbody>\n",
              "    <tr>\n",
              "      <th>B</th>\n",
              "      <td>22</td>\n",
              "      <td>8</td>\n",
              "      <td>2.750000</td>\n",
              "    </tr>\n",
              "    <tr>\n",
              "      <th>E</th>\n",
              "      <td>88</td>\n",
              "      <td>36</td>\n",
              "      <td>2.444444</td>\n",
              "    </tr>\n",
              "    <tr>\n",
              "      <th>M</th>\n",
              "      <td>17</td>\n",
              "      <td>6</td>\n",
              "      <td>2.833333</td>\n",
              "    </tr>\n",
              "    <tr>\n",
              "      <th>N</th>\n",
              "      <td>5</td>\n",
              "      <td>1</td>\n",
              "      <td>5.000000</td>\n",
              "    </tr>\n",
              "    <tr>\n",
              "      <th>P</th>\n",
              "      <td>413</td>\n",
              "      <td>118</td>\n",
              "      <td>3.500000</td>\n",
              "    </tr>\n",
              "    <tr>\n",
              "      <th>R</th>\n",
              "      <td>55</td>\n",
              "      <td>49</td>\n",
              "      <td>1.122449</td>\n",
              "    </tr>\n",
              "    <tr>\n",
              "      <th>T</th>\n",
              "      <td>86</td>\n",
              "      <td>37</td>\n",
              "      <td>2.324324</td>\n",
              "    </tr>\n",
              "    <tr>\n",
              "      <th>U</th>\n",
              "      <td>4</td>\n",
              "      <td>4</td>\n",
              "      <td>1.000000</td>\n",
              "    </tr>\n",
              "    <tr>\n",
              "      <th>V</th>\n",
              "      <td>187</td>\n",
              "      <td>44</td>\n",
              "      <td>4.250000</td>\n",
              "    </tr>\n",
              "    <tr>\n",
              "      <th>W</th>\n",
              "      <td>21</td>\n",
              "      <td>16</td>\n",
              "      <td>1.312500</td>\n",
              "    </tr>\n",
              "    <tr>\n",
              "      <th>Z</th>\n",
              "      <td>4</td>\n",
              "      <td>4</td>\n",
              "      <td>1.000000</td>\n",
              "    </tr>\n",
              "  </tbody>\n",
              "</table>\n",
              "</div>\n",
              "      <button class=\"colab-df-convert\" onclick=\"convertToInteractive('df-9f278464-07fa-473a-a0d7-3b4e3d8de9ac')\"\n",
              "              title=\"Convert this dataframe to an interactive table.\"\n",
              "              style=\"display:none;\">\n",
              "        \n",
              "  <svg xmlns=\"http://www.w3.org/2000/svg\" height=\"24px\"viewBox=\"0 0 24 24\"\n",
              "       width=\"24px\">\n",
              "    <path d=\"M0 0h24v24H0V0z\" fill=\"none\"/>\n",
              "    <path d=\"M18.56 5.44l.94 2.06.94-2.06 2.06-.94-2.06-.94-.94-2.06-.94 2.06-2.06.94zm-11 1L8.5 8.5l.94-2.06 2.06-.94-2.06-.94L8.5 2.5l-.94 2.06-2.06.94zm10 10l.94 2.06.94-2.06 2.06-.94-2.06-.94-.94-2.06-.94 2.06-2.06.94z\"/><path d=\"M17.41 7.96l-1.37-1.37c-.4-.4-.92-.59-1.43-.59-.52 0-1.04.2-1.43.59L10.3 9.45l-7.72 7.72c-.78.78-.78 2.05 0 2.83L4 21.41c.39.39.9.59 1.41.59.51 0 1.02-.2 1.41-.59l7.78-7.78 2.81-2.81c.8-.78.8-2.07 0-2.86zM5.41 20L4 18.59l7.72-7.72 1.47 1.35L5.41 20z\"/>\n",
              "  </svg>\n",
              "      </button>\n",
              "      \n",
              "  <style>\n",
              "    .colab-df-container {\n",
              "      display:flex;\n",
              "      flex-wrap:wrap;\n",
              "      gap: 12px;\n",
              "    }\n",
              "\n",
              "    .colab-df-convert {\n",
              "      background-color: #E8F0FE;\n",
              "      border: none;\n",
              "      border-radius: 50%;\n",
              "      cursor: pointer;\n",
              "      display: none;\n",
              "      fill: #1967D2;\n",
              "      height: 32px;\n",
              "      padding: 0 0 0 0;\n",
              "      width: 32px;\n",
              "    }\n",
              "\n",
              "    .colab-df-convert:hover {\n",
              "      background-color: #E2EBFA;\n",
              "      box-shadow: 0px 1px 2px rgba(60, 64, 67, 0.3), 0px 1px 3px 1px rgba(60, 64, 67, 0.15);\n",
              "      fill: #174EA6;\n",
              "    }\n",
              "\n",
              "    [theme=dark] .colab-df-convert {\n",
              "      background-color: #3B4455;\n",
              "      fill: #D2E3FC;\n",
              "    }\n",
              "\n",
              "    [theme=dark] .colab-df-convert:hover {\n",
              "      background-color: #434B5C;\n",
              "      box-shadow: 0px 1px 3px 1px rgba(0, 0, 0, 0.15);\n",
              "      filter: drop-shadow(0px 1px 2px rgba(0, 0, 0, 0.3));\n",
              "      fill: #FFFFFF;\n",
              "    }\n",
              "  </style>\n",
              "\n",
              "      <script>\n",
              "        const buttonEl =\n",
              "          document.querySelector('#df-9f278464-07fa-473a-a0d7-3b4e3d8de9ac button.colab-df-convert');\n",
              "        buttonEl.style.display =\n",
              "          google.colab.kernel.accessAllowed ? 'block' : 'none';\n",
              "\n",
              "        async function convertToInteractive(key) {\n",
              "          const element = document.querySelector('#df-9f278464-07fa-473a-a0d7-3b4e3d8de9ac');\n",
              "          const dataTable =\n",
              "            await google.colab.kernel.invokeFunction('convertToInteractive',\n",
              "                                                     [key], {});\n",
              "          if (!dataTable) return;\n",
              "\n",
              "          const docLinkHtml = 'Like what you see? Visit the ' +\n",
              "            '<a target=\"_blank\" href=https://colab.research.google.com/notebooks/data_table.ipynb>data table notebook</a>'\n",
              "            + ' to learn more about interactive tables.';\n",
              "          element.innerHTML = '';\n",
              "          dataTable['output_type'] = 'display_data';\n",
              "          await google.colab.output.renderOutput(dataTable, element);\n",
              "          const docLink = document.createElement('div');\n",
              "          docLink.innerHTML = docLinkHtml;\n",
              "          element.appendChild(docLink);\n",
              "        }\n",
              "      </script>\n",
              "    </div>\n",
              "  </div>\n",
              "  "
            ],
            "text/plain": [
              "BAD     False  True  odds_ration\n",
              "EMPS_A                          \n",
              "B          22     8     2.750000\n",
              "E          88    36     2.444444\n",
              "M          17     6     2.833333\n",
              "N           5     1     5.000000\n",
              "P         413   118     3.500000\n",
              "R          55    49     1.122449\n",
              "T          86    37     2.324324\n",
              "U           4     4     1.000000\n",
              "V         187    44     4.250000\n",
              "W          21    16     1.312500\n",
              "Z           4     4     1.000000"
            ]
          },
          "metadata": {},
          "execution_count": 64
        }
      ],
      "source": [
        "# Calculation of the odds-ratio for EMPS_A\n",
        "res = pd.crosstab(df['EMPS_A'],df['BAD'])\n",
        "res['odds_ration'] = res[0]/res[1]\n",
        "res"
      ]
    },
    {
      "cell_type": "code",
      "source": [
        "res = res.sort_values('odds_ration')\n",
        "res"
      ],
      "metadata": {
        "id": "WfeOACLGRpFZ",
        "outputId": "d5ca15e8-79d5-4e94-806b-ef05c0073c42",
        "colab": {
          "base_uri": "https://localhost:8080/",
          "height": 426
        }
      },
      "execution_count": 71,
      "outputs": [
        {
          "output_type": "execute_result",
          "data": {
            "text/html": [
              "\n",
              "  <div id=\"df-bcae7058-ec3d-4018-a68f-279ac486e761\">\n",
              "    <div class=\"colab-df-container\">\n",
              "      <div>\n",
              "<style scoped>\n",
              "    .dataframe tbody tr th:only-of-type {\n",
              "        vertical-align: middle;\n",
              "    }\n",
              "\n",
              "    .dataframe tbody tr th {\n",
              "        vertical-align: top;\n",
              "    }\n",
              "\n",
              "    .dataframe thead th {\n",
              "        text-align: right;\n",
              "    }\n",
              "</style>\n",
              "<table border=\"1\" class=\"dataframe\">\n",
              "  <thead>\n",
              "    <tr style=\"text-align: right;\">\n",
              "      <th>BAD</th>\n",
              "      <th>False</th>\n",
              "      <th>True</th>\n",
              "      <th>odds_ration</th>\n",
              "    </tr>\n",
              "    <tr>\n",
              "      <th>EMPS_A</th>\n",
              "      <th></th>\n",
              "      <th></th>\n",
              "      <th></th>\n",
              "    </tr>\n",
              "  </thead>\n",
              "  <tbody>\n",
              "    <tr>\n",
              "      <th>U</th>\n",
              "      <td>4</td>\n",
              "      <td>4</td>\n",
              "      <td>1.000000</td>\n",
              "    </tr>\n",
              "    <tr>\n",
              "      <th>Z</th>\n",
              "      <td>4</td>\n",
              "      <td>4</td>\n",
              "      <td>1.000000</td>\n",
              "    </tr>\n",
              "    <tr>\n",
              "      <th>R</th>\n",
              "      <td>55</td>\n",
              "      <td>49</td>\n",
              "      <td>1.122449</td>\n",
              "    </tr>\n",
              "    <tr>\n",
              "      <th>W</th>\n",
              "      <td>21</td>\n",
              "      <td>16</td>\n",
              "      <td>1.312500</td>\n",
              "    </tr>\n",
              "    <tr>\n",
              "      <th>T</th>\n",
              "      <td>86</td>\n",
              "      <td>37</td>\n",
              "      <td>2.324324</td>\n",
              "    </tr>\n",
              "    <tr>\n",
              "      <th>E</th>\n",
              "      <td>88</td>\n",
              "      <td>36</td>\n",
              "      <td>2.444444</td>\n",
              "    </tr>\n",
              "    <tr>\n",
              "      <th>B</th>\n",
              "      <td>22</td>\n",
              "      <td>8</td>\n",
              "      <td>2.750000</td>\n",
              "    </tr>\n",
              "    <tr>\n",
              "      <th>M</th>\n",
              "      <td>17</td>\n",
              "      <td>6</td>\n",
              "      <td>2.833333</td>\n",
              "    </tr>\n",
              "    <tr>\n",
              "      <th>P</th>\n",
              "      <td>413</td>\n",
              "      <td>118</td>\n",
              "      <td>3.500000</td>\n",
              "    </tr>\n",
              "    <tr>\n",
              "      <th>V</th>\n",
              "      <td>187</td>\n",
              "      <td>44</td>\n",
              "      <td>4.250000</td>\n",
              "    </tr>\n",
              "    <tr>\n",
              "      <th>N</th>\n",
              "      <td>5</td>\n",
              "      <td>1</td>\n",
              "      <td>5.000000</td>\n",
              "    </tr>\n",
              "  </tbody>\n",
              "</table>\n",
              "</div>\n",
              "      <button class=\"colab-df-convert\" onclick=\"convertToInteractive('df-bcae7058-ec3d-4018-a68f-279ac486e761')\"\n",
              "              title=\"Convert this dataframe to an interactive table.\"\n",
              "              style=\"display:none;\">\n",
              "        \n",
              "  <svg xmlns=\"http://www.w3.org/2000/svg\" height=\"24px\"viewBox=\"0 0 24 24\"\n",
              "       width=\"24px\">\n",
              "    <path d=\"M0 0h24v24H0V0z\" fill=\"none\"/>\n",
              "    <path d=\"M18.56 5.44l.94 2.06.94-2.06 2.06-.94-2.06-.94-.94-2.06-.94 2.06-2.06.94zm-11 1L8.5 8.5l.94-2.06 2.06-.94-2.06-.94L8.5 2.5l-.94 2.06-2.06.94zm10 10l.94 2.06.94-2.06 2.06-.94-2.06-.94-.94-2.06-.94 2.06-2.06.94z\"/><path d=\"M17.41 7.96l-1.37-1.37c-.4-.4-.92-.59-1.43-.59-.52 0-1.04.2-1.43.59L10.3 9.45l-7.72 7.72c-.78.78-.78 2.05 0 2.83L4 21.41c.39.39.9.59 1.41.59.51 0 1.02-.2 1.41-.59l7.78-7.78 2.81-2.81c.8-.78.8-2.07 0-2.86zM5.41 20L4 18.59l7.72-7.72 1.47 1.35L5.41 20z\"/>\n",
              "  </svg>\n",
              "      </button>\n",
              "      \n",
              "  <style>\n",
              "    .colab-df-container {\n",
              "      display:flex;\n",
              "      flex-wrap:wrap;\n",
              "      gap: 12px;\n",
              "    }\n",
              "\n",
              "    .colab-df-convert {\n",
              "      background-color: #E8F0FE;\n",
              "      border: none;\n",
              "      border-radius: 50%;\n",
              "      cursor: pointer;\n",
              "      display: none;\n",
              "      fill: #1967D2;\n",
              "      height: 32px;\n",
              "      padding: 0 0 0 0;\n",
              "      width: 32px;\n",
              "    }\n",
              "\n",
              "    .colab-df-convert:hover {\n",
              "      background-color: #E2EBFA;\n",
              "      box-shadow: 0px 1px 2px rgba(60, 64, 67, 0.3), 0px 1px 3px 1px rgba(60, 64, 67, 0.15);\n",
              "      fill: #174EA6;\n",
              "    }\n",
              "\n",
              "    [theme=dark] .colab-df-convert {\n",
              "      background-color: #3B4455;\n",
              "      fill: #D2E3FC;\n",
              "    }\n",
              "\n",
              "    [theme=dark] .colab-df-convert:hover {\n",
              "      background-color: #434B5C;\n",
              "      box-shadow: 0px 1px 3px 1px rgba(0, 0, 0, 0.15);\n",
              "      filter: drop-shadow(0px 1px 2px rgba(0, 0, 0, 0.3));\n",
              "      fill: #FFFFFF;\n",
              "    }\n",
              "  </style>\n",
              "\n",
              "      <script>\n",
              "        const buttonEl =\n",
              "          document.querySelector('#df-bcae7058-ec3d-4018-a68f-279ac486e761 button.colab-df-convert');\n",
              "        buttonEl.style.display =\n",
              "          google.colab.kernel.accessAllowed ? 'block' : 'none';\n",
              "\n",
              "        async function convertToInteractive(key) {\n",
              "          const element = document.querySelector('#df-bcae7058-ec3d-4018-a68f-279ac486e761');\n",
              "          const dataTable =\n",
              "            await google.colab.kernel.invokeFunction('convertToInteractive',\n",
              "                                                     [key], {});\n",
              "          if (!dataTable) return;\n",
              "\n",
              "          const docLinkHtml = 'Like what you see? Visit the ' +\n",
              "            '<a target=\"_blank\" href=https://colab.research.google.com/notebooks/data_table.ipynb>data table notebook</a>'\n",
              "            + ' to learn more about interactive tables.';\n",
              "          element.innerHTML = '';\n",
              "          dataTable['output_type'] = 'display_data';\n",
              "          await google.colab.output.renderOutput(dataTable, element);\n",
              "          const docLink = document.createElement('div');\n",
              "          docLink.innerHTML = docLinkHtml;\n",
              "          element.appendChild(docLink);\n",
              "        }\n",
              "      </script>\n",
              "    </div>\n",
              "  </div>\n",
              "  "
            ],
            "text/plain": [
              "BAD     False  True  odds_ration\n",
              "EMPS_A                          \n",
              "U           4     4     1.000000\n",
              "Z           4     4     1.000000\n",
              "R          55    49     1.122449\n",
              "W          21    16     1.312500\n",
              "T          86    37     2.324324\n",
              "E          88    36     2.444444\n",
              "B          22     8     2.750000\n",
              "M          17     6     2.833333\n",
              "P         413   118     3.500000\n",
              "V         187    44     4.250000\n",
              "N           5     1     5.000000"
            ]
          },
          "metadata": {},
          "execution_count": 71
        }
      ]
    },
    {
      "cell_type": "markdown",
      "metadata": {
        "id": "93iA4QJkZTzP"
      },
      "source": [
        "Now merge some category levels based on your solution to the previous task.  "
      ]
    },
    {
      "cell_type": "code",
      "execution_count": 73,
      "metadata": {
        "id": "CeKKvupOZTzP",
        "outputId": "45265c70-ccb5-478d-d233-aec3918ed80c",
        "colab": {
          "base_uri": "https://localhost:8080/"
        }
      },
      "outputs": [
        {
          "output_type": "execute_result",
          "data": {
            "text/plain": [
              "P+V+N      768\n",
              "T+E+B+M    300\n",
              "U+Z+R+W    157\n",
              "Name: EMPS_A_merged, dtype: int64"
            ]
          },
          "metadata": {},
          "execution_count": 73
        }
      ],
      "source": [
        "# Merge category levels from EMPS_A\n",
        "remap_dict = {\n",
        "    'U': 'U+Z+R+W',\n",
        "    'Z': 'U+Z+R+W',\n",
        "    'R': 'U+Z+R+W',\n",
        "    'W': 'U+Z+R+W',\n",
        "    'T': 'T+E+B+M',\n",
        "    'E': 'T+E+B+M',\n",
        "    'B': 'T+E+B+M',\n",
        "    'M': 'T+E+B+M',\n",
        "    'P': 'P+V+N',\n",
        "    'V': 'P+V+N',\n",
        "    'N': 'P+V+N'}\n",
        "\n",
        "df['EMPS_A_merged'] = df['EMPS_A'].map(remap_dict).astype('category')\n",
        "\n",
        "df['EMPS_A_merged'].value_counts()"
      ]
    },
    {
      "cell_type": "markdown",
      "metadata": {
        "id": "mR6iSiTPZTzP"
      },
      "source": [
        "The advantage of merging category levels is that we need less dummy variables for encoding the feature. On the other hand, by reducing category levels, we run the risk of losing information. It would make sense to check that our previous merging of category levels did not hurt, e.g., was not too aggressive. Why aggressive? Well, imagine you merge all category levels into one level. This would render the feature useless. So there is a trade-off between having few levels, to not increase dimensionality, and not having too few levels, to sustain the information in the feature for distinguishing good and bad applicants. To find a healthy balance between these conflicting objectives, we need a measure that tells us whether a grouping is informative. It turns out that a well-known statistical test, namely the $\\chi^2$ test, provides this functionality. \n",
        "- Run a quick web search to revisit the $\\chi^2$ test and understand how it is useful for judging a grouping of EMPS_A in our context.\n",
        "- Identify a way to calculate the $\\chi^2$ test statistic in Python\n",
        "- Calculate the test statistic for the original version of EMPS_A with 11 levels and the new version with less levels (i.e., solution to previous task)\n",
        "- Interpret the results and conclude whether your encoding of EMPS_A is suitable\n",
        "\n",
        "*HINT:* When merging categories, you should expect $\\chi^2$ test statistic to decrease unless the merged categories have exactly the same odds ratio. When deciding how many (and which) categories to merge, we should balance two conflicting objectives and try reducing the number of categories such that not too much information is lost. When fixing the number of categories, you can use the $\\chi^2$ test to compare competing encodings to select the one that preserves the most information. Play around with different ways to merge categories and try to select the one that achieves a good balance."
      ]
    },
    {
      "cell_type": "code",
      "execution_count": null,
      "metadata": {
        "id": "j1zQGSStZTzP"
      },
      "outputs": [],
      "source": [
        "# Chi^2 testing\n"
      ]
    },
    {
      "cell_type": "markdown",
      "metadata": {
        "id": "kDLUEmYaZTzP"
      },
      "source": [
        "# Well done. You did great in solving all the exercises!"
      ]
    },
    {
      "cell_type": "markdown",
      "metadata": {
        "id": "eqxmKIBHZTzP"
      },
      "source": [
        "**Optional**\n",
        "By solving the previous task, you have created a rather powerful mechanism to regroup categorical variables and judge the predictive power of the encoding prior to applying dummy coding. Write a function that wraps-up this functionality. In particular, your function should:\n",
        "- receive a categorical variable as input\n",
        "- check that the variable is actually a category\n",
        "- determine the number of unique levels\n",
        "- iteratively reduce the number of levels by:\n",
        "  - calculating the odds-ratio of all current levels\n",
        "  - merging the two levels whose odds ratio is most similar\n",
        "  - calculating the $\\chi^2$ statistic for the current grouping and store its value\n",
        "- plot the elbow curve for the $\\chi^2$ statistic against the number of levels\n",
        "- display the optimal encoding for each number of levels\n",
        "\n",
        "*HINT:* recall the elbow curve showing relationship between the distance and the number of clusters that we plotted in [Tutorial 2](https://github.com/Humboldt-WI/bads/blob/master/tutorials/2_nb_descriptive_analytics.ipynb). Your function should output a similar graph.\n",
        "\n",
        "Finally, check your implementation by applying the function to EMPS_A and interpreting the results.\n",
        "\n",
        "Note that the described procedure mimics the logic behind the [CHAID tree](https://towardsdatascience.com/clearly-explained-top-2-types-of-decision-trees-chaid-cart-8695e441e73e), which is a tree-based supervised learning algorithm that finds feature splits based on the $\\chi^2$ statistic. When pruning the CHAID tree, feature splits with the lowest value of the $\\chi^2$ statistic are removed, which is similar to what we do when merging categories such that the drop in the $\\chi^2$ statistic value is as small as possible. In the next turorials, you will learn more about tree-based algorithms and implement a decision tree from scratch. Solving this exercise will help you to make a step towards a better understanding of the principles of these learning algorithms."
      ]
    },
    {
      "cell_type": "code",
      "execution_count": null,
      "metadata": {
        "id": "zgTqNdOGZTzP"
      },
      "outputs": [],
      "source": [
        "# Solution to the optional task\n"
      ]
    }
  ],
  "metadata": {
    "colab": {
      "collapsed_sections": [],
      "name": "4_ex_data_prep.ipynb",
      "provenance": []
    },
    "kernelspec": {
      "display_name": "PyCharm (VHB-ProDok-Internal)",
      "language": "python",
      "name": "pycharm-e3448bea"
    },
    "language_info": {
      "codemirror_mode": {
        "name": "ipython",
        "version": 3
      },
      "file_extension": ".py",
      "mimetype": "text/x-python",
      "name": "python",
      "nbconvert_exporter": "python",
      "pygments_lexer": "ipython3",
      "version": "3.7.6"
    }
  },
  "nbformat": 4,
  "nbformat_minor": 0
}