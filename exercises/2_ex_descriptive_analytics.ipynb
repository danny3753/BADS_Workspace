{
  "nbformat": 4,
  "nbformat_minor": 0,
  "metadata": {
    "kernelspec": {
      "display_name": "PyCharm (adams)",
      "language": "python",
      "name": "pycharm-feb95198"
    },
    "language_info": {
      "codemirror_mode": {
        "name": "ipython",
        "version": 3
      },
      "file_extension": ".py",
      "mimetype": "text/x-python",
      "name": "python",
      "nbconvert_exporter": "python",
      "pygments_lexer": "ipython3",
      "version": "3.7.6"
    },
    "colab": {
      "name": "2_ex_descriptive_analytics.ipynb",
      "provenance": []
    }
  },
  "cells": [
    {
      "cell_type": "markdown",
      "metadata": {
        "id": "4vICQnxfHqCl"
      },
      "source": [
        "[![Open In Colab](https://colab.research.google.com/assets/colab-badge.svg)](https://colab.research.google.com/github/Humboldt-WI/bads/blob/master/exercises/2_ex_descriptive_analytics.ipynb) "
      ]
    },
    {
      "cell_type": "markdown",
      "metadata": {
        "id": "MHOld4XZHqCo"
      },
      "source": [
        "# BADS Exercise 2 on the foundations of descriptive analytics\n",
        "The second exercise comprises one more task to advance your skills in Python programming. It's main focus is on cluster analysis."
      ]
    },
    {
      "cell_type": "markdown",
      "metadata": {
        "id": "0-OYhWsSHqCp"
      },
      "source": [
        "## 1. Further exercises on Python programming\n",
        "The following exercise tasks revisit some concepts covered in [Tutorial 1 on Python programming](https://github.com/Humboldt-WI/bads/blob/master/tutorials/1_nb_python_intro.ipynb) "
      ]
    },
    {
      "cell_type": "markdown",
      "metadata": {
        "id": "Jrl0iFzoHqCp"
      },
      "source": [
        "### Using inbuilt functions and libraries\n",
        "In Python and other programming language, we use inbuilt functions all the time. Libraries like `NumPy` and `Pandas`, which offer a ton of functionality for handling and analyzing data, are the main reason why the Python language is such a good fit for data science. Let's practice our ability to access libraries and use their functions with some concrete tasks.\n",
        "\n",
        "The density of the normal distribution with mean $\\mu$ and variance $\\sigma$ is given as\n",
        "$$f(x | \\mu ,\\sigma ^{2}) = {\\frac {1}{\\sqrt {2\\sigma ^{2}\\pi}}}e^{-{\\frac {(x-\\mu )^{2}}{2\\sigma ^{2}}}}$$\n",
        "\n",
        "Let's create a nice plot of the bell curve that is so famous and characteristic for the normal distribution. Below, we already made sure that relevant libraries are imported. First, define two variables that store the two parameters of the normal distribution; no need to spill out these parameters, right? Next generate some values $x$. Say you want to plot the bell curve for $x \\in \\{-3, 3\\} $. Use the `NumPy` function `linspace()` for this purpose. "
      ]
    },
    {
      "cell_type": "code",
      "metadata": {
        "id": "DGOTGG4qHqCq",
        "outputId": "a92d280d-4bc1-466b-daaf-c9afda900bbb",
        "colab": {
          "base_uri": "https://localhost:8080/",
          "height": 265
        }
      },
      "source": [
        "import matplotlib.pyplot as plt\n",
        "import numpy as np\n",
        "import scipy.stats as stats\n",
        "import math\n",
        "\n",
        "mean = 0\n",
        "std = 2\n",
        "\n",
        "x_min = -3\n",
        "x_max = 3\n",
        "\n",
        "\n",
        "x = np.linspace(x_min,x_max,100)\n",
        "\n",
        "a = math.sqrt(2*std**2*math.pi)\n",
        "b = -((x-mean)**2)/(2*std**2)\n",
        "c = np.exp(b)\n",
        "y = (1/a)*c\n",
        "\n",
        "plt.plot(x,y, color='blue')\n",
        "plt.grid()\n",
        "\n",
        "\n",
        "\n"
      ],
      "execution_count": 10,
      "outputs": [
        {
          "output_type": "display_data",
          "data": {
            "image/png": "[encoded data removed]",
            "text/plain": [
              "<Figure size 432x288 with 1 Axes>"
            ]
          },
          "metadata": {
            "needs_background": "light"
          }
        }
      ]
    },
    {
      "cell_type": "markdown",
      "metadata": {
        "id": "AnnsOFcjHqCr"
      },
      "source": [
        "Then, for each value of $x$, compute the probability that a normally distributed random variable would be arbitrarily close to that value. To calculate the probability density of the normal distribution, you can use the function `norm.pdf`. The function is part of the *stats models library*, which we import below. So you can write something like `stats.norm.pdf(...)` where ... stands for the arguments that the function requires. Make sure to store the results of the computation in a variable **nvValues**."
      ]
    },
    {
      "cell_type": "code",
      "metadata": {
        "id": "M1ya5r8aHqCr"
      },
      "source": [
        "nvValues = stats.norm.pdf(x,mean,std)"
      ],
      "execution_count": 11,
      "outputs": []
    },
    {
      "cell_type": "markdown",
      "metadata": {
        "id": "6zUbIlqYHqCs"
      },
      "source": [
        "We are now ready to plot. Create a simple graph of **nvValues** against **x** using the `plot()`function. Let's say you want your line to be in red color. Use the help and web search to find out how to plot a red line. Also make sure to label your axes; remember: never create a plot without axis labels."
      ]
    },
    {
      "cell_type": "code",
      "metadata": {
        "id": "Tl8q5KYiHqCs",
        "outputId": "11fea837-21e8-4e71-891d-75b077b56ebd",
        "colab": {
          "base_uri": "https://localhost:8080/",
          "height": 296
        }
      },
      "source": [
        "plt.plot(x,nvValues, color = 'red')\n",
        "plt.xlabel('x')\n",
        "plt.ylabel('nvValues')"
      ],
      "execution_count": 12,
      "outputs": [
        {
          "output_type": "execute_result",
          "data": {
            "text/plain": [
              "Text(0, 0.5, 'nvValues')"
            ]
          },
          "metadata": {},
          "execution_count": 12
        },
        {
          "output_type": "display_data",
          "data": {
            "image/png": "[encoded data removed]",
            "text/plain": [
              "<Figure size 432x288 with 1 Axes>"
            ]
          },
          "metadata": {
            "needs_background": "light"
          }
        }
      ]
    },
    {
      "cell_type": "markdown",
      "metadata": {
        "id": "be9mOpHQHqCt"
      },
      "source": [
        "## 2. Exercises on descriptive analytics\n",
        "The following exercise tasks revisit some concepts covered in [Tutorial 2 on descriptive analytics](https://github.com/Humboldt-WI/bads/blob/master/tutorials/2_nb_descriptive_analytics.ipynb). \n",
        "\n",
        "### 2.1 Data generation\n",
        "We want to revisit kMeans and need some data for this purpose. Make use of the function `make_blobs()`, which is part of the `sklearn` library to generate some artificial data. Say we want to **create data with 4 clusters**. Make sure to configure the `make_blobs()` function appropriately. "
      ]
    },
    {
      "cell_type": "code",
      "metadata": {
        "id": "dk4KOol-HqCu"
      },
      "source": [
        "# Generate data for clustering\n",
        "import numpy as np \n",
        "import matplotlib.pyplot as plt\n",
        "import pandas as pd\n",
        "from sklearn.datasets import make_blobs\n",
        "\n",
        "np.random.seed(888)\n",
        "n = 500\n",
        "n_cluster = 4\n",
        "std = 2\n",
        "\n",
        "X,y = make_blobs(n_samples=n, centers=n_cluster, cluster_std=std)\n"
      ],
      "execution_count": 48,
      "outputs": []
    },
    {
      "cell_type": "code",
      "metadata": {
        "id": "248KRm-9T3ij",
        "outputId": "4da1f3af-4c3b-44ef-e790-1fd3b1993136",
        "colab": {
          "base_uri": "https://localhost:8080/"
        }
      },
      "source": [
        "X.shape, y.shape"
      ],
      "execution_count": 14,
      "outputs": [
        {
          "output_type": "execute_result",
          "data": {
            "text/plain": [
              "((500, 2), (500,))"
            ]
          },
          "metadata": {},
          "execution_count": 14
        }
      ]
    },
    {
      "cell_type": "code",
      "metadata": {
        "id": "n2M6MngUVbMT",
        "outputId": "31d200cc-c2ae-4e77-976d-cc32850f1bce",
        "colab": {
          "base_uri": "https://localhost:8080/"
        }
      },
      "source": [
        "y[:5]"
      ],
      "execution_count": 16,
      "outputs": [
        {
          "output_type": "execute_result",
          "data": {
            "text/plain": [
              "array([0, 0, 1, 3, 0])"
            ]
          },
          "metadata": {},
          "execution_count": 16
        }
      ]
    },
    {
      "cell_type": "code",
      "metadata": {
        "id": "bXqLbwjGUNI0",
        "outputId": "9c511466-f188-4df5-c15e-8613ac55cc53",
        "colab": {
          "base_uri": "https://localhost:8080/",
          "height": 282
        }
      },
      "source": [
        "\n",
        "plt.scatter(X[:,0],X[:,1], c=y)"
      ],
      "execution_count": 49,
      "outputs": [
        {
          "output_type": "execute_result",
          "data": {
            "text/plain": [
              "<matplotlib.collections.PathCollection at 0x7faf96cf2610>"
            ]
          },
          "metadata": {},
          "execution_count": 49
        },
        {
          "output_type": "display_data",
          "data": {
            "image/png": "[encoded data removed]",
            "text/plain": [
              "<Figure size 432x288 with 1 Axes>"
            ]
          },
          "metadata": {
            "needs_background": "light"
          }
        }
      ]
    },
    {
      "cell_type": "markdown",
      "metadata": {
        "id": "q0-XeOmhHqCu"
      },
      "source": [
        "## 2.2 kMeans\n",
        "The second tutorial provided a *from scratch implementation* of the kMeans algorithm. Go back to the tutorial and copy/paste the relevant parts of the code into this notebook. This will allow you to run the algorithm here."
      ]
    },
    {
      "cell_type": "code",
      "metadata": {
        "id": "ZPJMgU4NHqCv"
      },
      "source": [
        "# From-scratch implementation of kMeans \n",
        "def euclidean_distance(a, b):\n",
        "    return np.sqrt(np.sum((a - b)**2))"
      ],
      "execution_count": 51,
      "outputs": []
    },
    {
      "cell_type": "code",
      "metadata": {
        "id": "9v_qCCwEV9Uj"
      },
      "source": [
        "def label_cluster(n_samples, clusters):\n",
        "    \"\"\"each sample will get the label of the cluster it was assigned to\"\"\"\n",
        "    labels = np.empty(n_samples) # creates empty array as long as samples for future labels\n",
        "\n",
        "    for cluster_idx, cluster in enumerate(clusters):\n",
        "        for sample_index in cluster:\n",
        "            labels[sample_index] = cluster_idx # assign labels to each sample\n",
        "    return labels"
      ],
      "execution_count": 52,
      "outputs": []
    },
    {
      "cell_type": "code",
      "metadata": {
        "id": "RAXUhfRSWAYI"
      },
      "source": [
        "def create_clusters(K, X, centroids):\n",
        "    \"\"\"Assign the samples to the closest centroids to create clusters\"\"\"\n",
        "    clusters = [[] for _ in range(K)] # creates a list of K number of lists\n",
        "    for idx, sample in enumerate(X):\n",
        "        centroid_idx = find_closest_centroid(sample, centroids) # find closest centroid for each sample\n",
        "        clusters[centroid_idx].append(idx) # create index list of closest centroids\n",
        "    return clusters"
      ],
      "execution_count": 53,
      "outputs": []
    },
    {
      "cell_type": "code",
      "metadata": {
        "id": "yBM-VsU9WCqq"
      },
      "source": [
        "def find_closest_centroid(sample, centroids):\n",
        "    \"\"\"Distance from each sample to every centroid\"\"\"\n",
        "    distances = [euclidean_distance(sample, point) for point in centroids] # calculate distance from each sample to each centroid\n",
        "    closest_index = np.argmin(distances) # take closest centroid (one with minimal distance)\n",
        "    return closest_index"
      ],
      "execution_count": 55,
      "outputs": []
    },
    {
      "cell_type": "code",
      "metadata": {
        "id": "9sY7PLIwWFFO"
      },
      "source": [
        "def update_centroids(X, K, n_features, clusters):\n",
        "    \"\"\"Assign mean value of cluster features to each centroid\"\"\"\n",
        "    centroids = np.zeros((K, n_features))\n",
        "    for cluster_idx, cluster in enumerate(clusters):\n",
        "        cluster_mean = np.mean(X[cluster,:], axis=0) # find new centroid by finding mean of all points assigned to centroid\n",
        "        centroids[cluster_idx] = cluster_mean # collect all centroids\n",
        "    return centroids"
      ],
      "execution_count": 56,
      "outputs": []
    },
    {
      "cell_type": "code",
      "metadata": {
        "id": "D_mYANJNWG_v"
      },
      "source": [
        "def is_converged(centroids_old, centroids):\n",
        "    \"\"\"Check if centroids have changed since last iteration\"\"\"\n",
        "    return (centroids == centroids_old).all()"
      ],
      "execution_count": 57,
      "outputs": []
    },
    {
      "cell_type": "code",
      "metadata": {
        "id": "O1t6z_bUWQw_"
      },
      "source": [
        "def KMeans_from_scratch_euclidean(X, K=5, max_iters=100):\n",
        "    \"\"\"Choose a random set of centroids then optimise using above functions\"\"\"\n",
        "    n_samples, n_features = X.shape\n",
        "    \n",
        "    # Initialization \n",
        "    random_sample_idx = np.random.choice(n_samples, K, replace=False) # take random sample points to be initial clusters\n",
        "    centroids = [X[idx] for idx in random_sample_idx] # label these points as centroids\n",
        "\n",
        "    iteration_num = 0 # initialize iteration tracker\n",
        "\n",
        "    # Optimization\n",
        "    for iteration in range(max_iters):\n",
        "        \n",
        "        iteration_num += 1 # track iterations required\n",
        "\n",
        "        clusters = create_clusters(K, X, centroids) # assignment to closest centroids (cluster creation)\n",
        "\n",
        "        centroids_old = centroids # archive previous centroids\n",
        "        centroids = update_centroids(X, K, n_features, clusters) # Updating centroids \n",
        "        \n",
        "        # Convergence Confirmation\n",
        "        if is_converged(centroids_old, centroids): # check if last iteration's centroids were the same as current iteration\n",
        "            break # exit loop since there was no change since last iteration\n",
        "    \n",
        "    # Clustering has converged or we have hit the max number of iteration:\n",
        "    # Determine current cluster solution\n",
        "    labels = label_cluster(n_samples, clusters)  # classify samples as the index of their clusters\n",
        "    dist = [euclidean_distance(X[row_num], centroids[int(labels[row_num])]) for row_num in range(X.shape[0])]  # get distance from each point to its centroid\n",
        "    total_dist = np.sum(np.square(dist))  # total distance calculated as sum of squares     \n",
        "        \n",
        "    return labels, iteration_num, K, centroids, total_dist"
      ],
      "execution_count": 58,
      "outputs": []
    },
    {
      "cell_type": "markdown",
      "metadata": {
        "id": "eyXiqL7WHqCv"
      },
      "source": [
        "Test the implementation by clustering the data created in 2.1 above. We know the data has 4 clusters, so feel free to set $k=4$. "
      ]
    },
    {
      "cell_type": "code",
      "metadata": {
        "id": "iRCbpu3oHqCv"
      },
      "source": [
        "# Clustering of the artificial data\n",
        "result_euclidean = KMeans_from_scratch_euclidean(X, K=4, max_iters=100)"
      ],
      "execution_count": 59,
      "outputs": []
    },
    {
      "cell_type": "markdown",
      "metadata": {
        "id": "Axe4Tkw5HqCv"
      },
      "source": [
        "## 2.3 Distance function\n",
        "In the lecture, we argued that clustering methods and kMeans are versatile in that the support various distance measures. Let's convince ourself that this is true. Your task is to write a custom function that calculates **cosine similarity**. You can look up the formula of the cosine similarity in the lecture slides of chapter 2, or from the Internet. "
      ]
    },
    {
      "cell_type": "code",
      "metadata": {
        "id": "JUG9hUlJHqCw"
      },
      "source": [
        "from numpy import dot\n",
        "from numpy.linalg import norm\n",
        "\n",
        "def cosine_sim(a,b):\n",
        "  return dot(a*b)/(norm(a)*norm(b))\n"
      ],
      "execution_count": 60,
      "outputs": []
    },
    {
      "cell_type": "markdown",
      "metadata": {
        "id": "PIBKre-VHqCw"
      },
      "source": [
        "Next thing to do is to change the above from scratch implementation of the kMeans algorithm such that it uses your cosine similarity function for clustering the data. It might be better to copy/past the full kMeans code one more time because this will allow you to have both versions, with Euclidean distance and cosine similarity, in the notebook. This makes it easier to re-run the clustering in case you need or want to."
      ]
    },
    {
      "cell_type": "code",
      "metadata": {
        "id": "rlGXavm4HqCw"
      },
      "source": [
        "# kMeans with cosine similarity\n",
        "\n",
        "from numpy import dot\n",
        "from numpy.linalg import norm\n",
        "\n",
        "def cosine_sim(a,b):\n",
        "  return dot(a,b)/(norm(a)*norm(b))\n",
        "\n",
        "def find_closest_centroid(sample, centroids):\n",
        "    \"\"\"Distance from each sample to every centroid\"\"\"\n",
        "    distances = [cosine_sim(sample, point) for point in centroids] # calculate distance from each sample to each centroid\n",
        "    closest_index = np.argmin(distances) # take closest centroid (one with minimal distance)\n",
        "    return closest_index\n",
        "\n",
        "\n",
        "def KMeans_from_scratch_cosine(X, K=5, max_iters=100):\n",
        "    \"\"\"Choose a random set of centroids then optimise using above functions\"\"\"\n",
        "    n_samples, n_features = X.shape\n",
        "    \n",
        "    # Initialization \n",
        "    random_sample_idx = np.random.choice(n_samples, K, replace=False) # take random sample points to be initial clusters\n",
        "    centroids = [X[idx] for idx in random_sample_idx] # label these points as centroids\n",
        "\n",
        "    iteration_num = 0 # initialize iteration tracker\n",
        "\n",
        "    # Optimization\n",
        "    for iteration in range(max_iters):\n",
        "        \n",
        "        iteration_num += 1 # track iterations required\n",
        "\n",
        "        clusters = create_clusters(K, X, centroids) # assignment to closest centroids (cluster creation)\n",
        "\n",
        "        centroids_old = centroids # archive previous centroids\n",
        "        centroids = update_centroids(X, K, n_features, clusters) # Updating centroids \n",
        "        \n",
        "        # Convergence Confirmation\n",
        "        if is_converged(centroids_old, centroids): # check if last iteration's centroids were the same as current iteration\n",
        "            break # exit loop since there was no change since last iteration\n",
        "    \n",
        "    # Clustering has converged or we have hit the max number of iteration:\n",
        "    # Determine current cluster solution\n",
        "    labels = label_cluster(n_samples, clusters)  # classify samples as the index of their clusters\n",
        "    dist = [cosine_sim(X[row_num], centroids[int(labels[row_num])]) for row_num in range(X.shape[0])]  # get distance from each point to its centroid\n",
        "    total_dist = np.sum(np.square(dist))  # total distance calculated as sum of squares     \n",
        "        \n",
        "    return labels, iteration_num, K, centroids, total_dist\n"
      ],
      "execution_count": 61,
      "outputs": []
    },
    {
      "cell_type": "code",
      "metadata": {
        "id": "ay6MbQ03b92G"
      },
      "source": [
        "result = KMeans_from_scratch_cosine(X, K=4, max_iters=100)"
      ],
      "execution_count": 62,
      "outputs": []
    },
    {
      "cell_type": "code",
      "metadata": {
        "id": "z0TSUDGVc1ay",
        "outputId": "fd4a9eca-e549-4c8b-c13a-36b58da7dc50",
        "colab": {
          "base_uri": "https://localhost:8080/"
        }
      },
      "source": [
        "print(\"No. Iterations:\", result[1], \", No. Centres:\", result[2], \", Total Squared Distance {:.4}\".format(result[4]))"
      ],
      "execution_count": 46,
      "outputs": [
        {
          "output_type": "stream",
          "name": "stdout",
          "text": [
            "No. Iterations: 100 , No. Centres: 4 , Total Squared Distance 445.8\n"
          ]
        }
      ]
    },
    {
      "cell_type": "markdown",
      "metadata": {
        "id": "utno8QX4HqCw"
      },
      "source": [
        "## 2.4 New clustering solution\n",
        "The last task on the list is to apply the altered kMeans with cosine similarity to your synthetic data set. Try to come up with a suitable way to compare the results of the two versions of kMeans. It is natural to ask how the cluster solutions differ when using Euclidean distance or cosine similarity. How would you answer that question? Make use of your Python skills to come up with an answer."
      ]
    },
    {
      "cell_type": "code",
      "metadata": {
        "id": "yblwORuMHqCw",
        "outputId": "de7d9030-5054-46a3-b0f4-5ec7ef7c45a5",
        "colab": {
          "base_uri": "https://localhost:8080/"
        }
      },
      "source": [
        "# Create cluster solution with the modified kMeans\n",
        "result_cosine = KMeans_from_scratch(X, K=4, max_iters=100)\n",
        "result_euclidean = KMeans_from_scratch_euclidean(X, K=4, max_iters=100)"
      ],
      "execution_count": 63,
      "outputs": [
        {
          "output_type": "stream",
          "name": "stderr",
          "text": [
            "/usr/local/lib/python3.7/dist-packages/numpy/core/fromnumeric.py:3373: RuntimeWarning: Mean of empty slice.\n",
            "  out=out, **kwargs)\n",
            "/usr/local/lib/python3.7/dist-packages/numpy/core/_methods.py:163: RuntimeWarning: invalid value encountered in true_divide\n",
            "  ret, rcount, out=ret, casting='unsafe', subok=False)\n"
          ]
        }
      ]
    },
    {
      "cell_type": "code",
      "metadata": {
        "id": "rjcEkO05HqCw"
      },
      "source": [
        "# Write some code to compare the two cluster solutions from using Euclidean distance and cosine similarity \n"
      ],
      "execution_count": null,
      "outputs": []
    },
    {
      "cell_type": "markdown",
      "metadata": {
        "id": "gSVlMpz9HqCx"
      },
      "source": [
        "## 2.5 Further tasks\n",
        "Still not enough? Ok, that is great! Here are a few ideas for some more tasks associated with kMeans and the scope of this exercise.\n",
        "- Write a custom function calculating the city-block or Manhatten metric\n",
        "- Improve the from scratch implementation of kMeans such that it supports the caller to specify the desired distance function as an argument\n",
        "- The above changes should enable you to flexibly run kMeans with Euclidean, cosine, and city-block distance. Try that out using your synthetic data\n",
        "- Use the `sklearn` function `make_classification()` to generate a more challenging data and apply kMeans to it. You can use your customer implementation of kMeans or the one available in `sklearn`\n",
        "- Run a web-search for the **IRIS data set**. It is a very well known data set. Quickly familiarize yourself with the data. Afterwards, load it using the function `sklearn.datasets.load_iris()`. Check whether kMeans is able to identify the three types of iris flowers. "
      ]
    },
    {
      "cell_type": "markdown",
      "metadata": {
        "id": "pc7JTGMCHqCx"
      },
      "source": [
        "# Done... puh, that was a lot of work. And you did it! Congratulations!!! "
      ]
    }
  ]
}